{
 "cells": [
  {
   "cell_type": "markdown",
   "metadata": {},
   "source": [
    "# 生成四种LSTM需要输入的数据\n",
    "#### 1. 基本价量数据\n",
    "#### 2. 基本价量+价格形态特征\n",
    "#### 3. 基本价量+宏观经济特征\n",
    "#### 4. 基本价量+价格形态特征+宏观经济特征"
   ]
  },
  {
   "cell_type": "code",
   "execution_count": 54,
   "metadata": {},
   "outputs": [],
   "source": [
    "import pandas as pd\n",
    "import numpy as np\n",
    "import matplotlib.pyplot as plt\n",
    "from sklearn.preprocessing import MinMaxScaler\n",
    "from filelock import FileLock\n",
    "from math import *\n",
    "import torch\n",
    "from torch import nn\n",
    "from torch.nn import functional as F\n",
    "from torch.utils.data import TensorDataset, DataLoader\n",
    "import torchkeras\n",
    "from sklearn.metrics import mean_absolute_error\n",
    "from sklearn.metrics import mean_squared_error\n",
    "from sklearn.metrics import r2_score\n",
    "import torch.optim as optim\n",
    "from filelock import FileLock\n",
    "from torch.utils.data import random_split\n",
    "import torchvision\n",
    "import torchvision.transforms as transforms\n",
    "import ray\n",
    "from ray import tune\n",
    "from ray.air import session\n",
    "from ray.air.checkpoint import Checkpoint\n",
    "from ray.tune.schedulers import ASHAScheduler\n",
    "import os"
   ]
  },
  {
   "cell_type": "code",
   "execution_count": 55,
   "metadata": {},
   "outputs": [],
   "source": [
    "# 创建时间窗口\n",
    "def dataWindow(dataset, lookback):\n",
    "    \n",
    "    # dataset = dataset.to_numpy()\n",
    "    data = []\n",
    "    for index in range(len(dataset)-lookback):\n",
    "        data.append(dataset[index:index+lookback+1])\n",
    "    data = np.array(data)\n",
    "    return data\n"
   ]
  },
  {
   "cell_type": "code",
   "execution_count": 56,
   "metadata": {},
   "outputs": [],
   "source": [
    "# 划分训练集、验证集、测试集\n",
    "def spiltData(data, y_index, train_scale=0.7, val_scale=0.2, test_scale=0.1):\n",
    "\n",
    "    test_size = int(np.round(test_scale*data.shape[0]))\n",
    "    val_size = int(np.round(val_scale*data.shape[0]))\n",
    "    train_size = data.shape[0] - test_size - val_size\n",
    "\n",
    "    x_train = data[:train_size, :-1, :]\n",
    "    y_train = data[:train_size, -1, y_index]\n",
    "    x_val = data[train_size:train_size+val_size, :-1, :]\n",
    "    y_val = data[train_size:train_size+val_size, -1, y_index]\n",
    "    x_test = data[train_size+val_size:, :-1, :]\n",
    "    y_test = data[train_size+val_size:, -1, y_index]\n",
    "    return x_train, y_train, x_val, y_val, x_test, y_test"
   ]
  },
  {
   "cell_type": "markdown",
   "metadata": {},
   "source": [
    "# 基本价量数据"
   ]
  },
  {
   "cell_type": "code",
   "execution_count": 57,
   "metadata": {},
   "outputs": [
    {
     "data": {
      "text/html": [
       "<div>\n",
       "<style scoped>\n",
       "    .dataframe tbody tr th:only-of-type {\n",
       "        vertical-align: middle;\n",
       "    }\n",
       "\n",
       "    .dataframe tbody tr th {\n",
       "        vertical-align: top;\n",
       "    }\n",
       "\n",
       "    .dataframe thead th {\n",
       "        text-align: right;\n",
       "    }\n",
       "</style>\n",
       "<table border=\"1\" class=\"dataframe\">\n",
       "  <thead>\n",
       "    <tr style=\"text-align: right;\">\n",
       "      <th></th>\n",
       "      <th>close</th>\n",
       "      <th>open</th>\n",
       "      <th>high</th>\n",
       "      <th>low</th>\n",
       "      <th>vol</th>\n",
       "    </tr>\n",
       "    <tr>\n",
       "      <th>trade_date</th>\n",
       "      <th></th>\n",
       "      <th></th>\n",
       "      <th></th>\n",
       "      <th></th>\n",
       "      <th></th>\n",
       "    </tr>\n",
       "  </thead>\n",
       "  <tbody>\n",
       "    <tr>\n",
       "      <th>2013-01-04</th>\n",
       "      <td>2524.4090</td>\n",
       "      <td>2551.8140</td>\n",
       "      <td>2558.5290</td>\n",
       "      <td>2498.8920</td>\n",
       "      <td>97988182</td>\n",
       "    </tr>\n",
       "    <tr>\n",
       "      <th>2013-01-07</th>\n",
       "      <td>2535.9850</td>\n",
       "      <td>2518.0470</td>\n",
       "      <td>2545.9690</td>\n",
       "      <td>2511.6030</td>\n",
       "      <td>75167993</td>\n",
       "    </tr>\n",
       "    <tr>\n",
       "      <th>2013-01-08</th>\n",
       "      <td>2525.3300</td>\n",
       "      <td>2534.6470</td>\n",
       "      <td>2540.5130</td>\n",
       "      <td>2502.4900</td>\n",
       "      <td>71837100</td>\n",
       "    </tr>\n",
       "    <tr>\n",
       "      <th>2013-01-09</th>\n",
       "      <td>2526.1260</td>\n",
       "      <td>2518.1040</td>\n",
       "      <td>2534.2390</td>\n",
       "      <td>2504.2990</td>\n",
       "      <td>70231170</td>\n",
       "    </tr>\n",
       "    <tr>\n",
       "      <th>2013-01-10</th>\n",
       "      <td>2530.5690</td>\n",
       "      <td>2525.5900</td>\n",
       "      <td>2553.3520</td>\n",
       "      <td>2513.7290</td>\n",
       "      <td>71085862</td>\n",
       "    </tr>\n",
       "    <tr>\n",
       "      <th>...</th>\n",
       "      <td>...</td>\n",
       "      <td>...</td>\n",
       "      <td>...</td>\n",
       "      <td>...</td>\n",
       "      <td>...</td>\n",
       "    </tr>\n",
       "    <tr>\n",
       "      <th>2022-12-26</th>\n",
       "      <td>3843.4887</td>\n",
       "      <td>3830.5682</td>\n",
       "      <td>3856.8066</td>\n",
       "      <td>3827.5186</td>\n",
       "      <td>73005712</td>\n",
       "    </tr>\n",
       "    <tr>\n",
       "      <th>2022-12-27</th>\n",
       "      <td>3887.8540</td>\n",
       "      <td>3860.9054</td>\n",
       "      <td>3891.8497</td>\n",
       "      <td>3856.5800</td>\n",
       "      <td>77515350</td>\n",
       "    </tr>\n",
       "    <tr>\n",
       "      <th>2022-12-28</th>\n",
       "      <td>3871.2644</td>\n",
       "      <td>3874.9132</td>\n",
       "      <td>3884.7205</td>\n",
       "      <td>3854.9406</td>\n",
       "      <td>84424656</td>\n",
       "    </tr>\n",
       "    <tr>\n",
       "      <th>2022-12-29</th>\n",
       "      <td>3856.7007</td>\n",
       "      <td>3854.2363</td>\n",
       "      <td>3868.2933</td>\n",
       "      <td>3838.4803</td>\n",
       "      <td>79394815</td>\n",
       "    </tr>\n",
       "    <tr>\n",
       "      <th>2022-12-30</th>\n",
       "      <td>3871.6338</td>\n",
       "      <td>3873.9358</td>\n",
       "      <td>3887.5527</td>\n",
       "      <td>3868.7569</td>\n",
       "      <td>78773272</td>\n",
       "    </tr>\n",
       "  </tbody>\n",
       "</table>\n",
       "<p>2430 rows × 5 columns</p>\n",
       "</div>"
      ],
      "text/plain": [
       "                close       open       high        low       vol\n",
       "trade_date                                                      \n",
       "2013-01-04  2524.4090  2551.8140  2558.5290  2498.8920  97988182\n",
       "2013-01-07  2535.9850  2518.0470  2545.9690  2511.6030  75167993\n",
       "2013-01-08  2525.3300  2534.6470  2540.5130  2502.4900  71837100\n",
       "2013-01-09  2526.1260  2518.1040  2534.2390  2504.2990  70231170\n",
       "2013-01-10  2530.5690  2525.5900  2553.3520  2513.7290  71085862\n",
       "...               ...        ...        ...        ...       ...\n",
       "2022-12-26  3843.4887  3830.5682  3856.8066  3827.5186  73005712\n",
       "2022-12-27  3887.8540  3860.9054  3891.8497  3856.5800  77515350\n",
       "2022-12-28  3871.2644  3874.9132  3884.7205  3854.9406  84424656\n",
       "2022-12-29  3856.7007  3854.2363  3868.2933  3838.4803  79394815\n",
       "2022-12-30  3871.6338  3873.9358  3887.5527  3868.7569  78773272\n",
       "\n",
       "[2430 rows x 5 columns]"
      ]
     },
     "execution_count": 57,
     "metadata": {},
     "output_type": "execute_result"
    }
   ],
   "source": [
    "# 基本价量数据\n",
    "basic_data = pd.read_csv('../../data/final/hs300(2013-2022).csv').set_index(\"trade_date\").sort_index()\n",
    "basic_data.index = pd.to_datetime(basic_data.index, format='%Y%m%d')\n",
    "basic_data"
   ]
  },
  {
   "cell_type": "code",
   "execution_count": 58,
   "metadata": {},
   "outputs": [],
   "source": [
    "# 标准化\n",
    "scaler1 = MinMaxScaler()\n",
    "basic_data_scaled = scaler1.fit_transform(basic_data.values)\n",
    "# 存储每个特征的最值，用于inverse\n",
    "mins1 = basic_data.min()\n",
    "maxs1 = basic_data.max()\n",
    "y_min1 = mins1['close']\n",
    "y_max1 = maxs1['close']"
   ]
  },
  {
   "cell_type": "code",
   "execution_count": 59,
   "metadata": {},
   "outputs": [],
   "source": [
    "# 时间窗口+划分数据集\n",
    "data1 = dataWindow(basic_data_scaled, 20)\n",
    "x_train1, y_train1, x_val1, y_val1, x_test1, y_test1 = spiltData(data1, y_index = 0)"
   ]
  },
  {
   "cell_type": "markdown",
   "metadata": {},
   "source": [
    "# 基本价量+价格形态数据"
   ]
  },
  {
   "cell_type": "code",
   "execution_count": 60,
   "metadata": {},
   "outputs": [],
   "source": [
    "# 价格形态特征数据\n",
    "price_form_data = basic_data.copy()\n",
    "# 标准化\n",
    "scaler2 = MinMaxScaler()\n",
    "data_all2 = price_form_data.values\n",
    "data_all2 = scaler2.fit_transform(data_all2)\n",
    "# 存储每个特征的最值，用于inverse\n",
    "mins2 = price_form_data.min()\n",
    "maxs2 = price_form_data.max()\n",
    "y_min2 = mins2['close']\n",
    "y_max2 = maxs2['close']"
   ]
  },
  {
   "cell_type": "code",
   "execution_count": 61,
   "metadata": {},
   "outputs": [
    {
     "data": {
      "text/plain": [
       "(2410, 21, 5)"
      ]
     },
     "execution_count": 61,
     "metadata": {},
     "output_type": "execute_result"
    }
   ],
   "source": [
    "lag = 20\n",
    "data2 = dataWindow(data_all2, lag)\n",
    "data2.shape"
   ]
  },
  {
   "cell_type": "code",
   "execution_count": 62,
   "metadata": {},
   "outputs": [
    {
     "data": {
      "text/plain": [
       "0"
      ]
     },
     "execution_count": 62,
     "metadata": {},
     "output_type": "execute_result"
    }
   ],
   "source": [
    "# close的索引\n",
    "close_index = price_form_data.columns.get_loc(\"close\")\n",
    "close_index"
   ]
  },
  {
   "cell_type": "code",
   "execution_count": 63,
   "metadata": {},
   "outputs": [
    {
     "name": "stdout",
     "output_type": "stream",
     "text": [
      "x_train.shape: (1687, 20, 5)  y_train.shape: (1687,) \n",
      " x_val.shape: (482, 20, 5)  y_val.shape: (482,) \n",
      " x_test.shape: (241, 20, 5)  y_test.shape: (241,)\n"
     ]
    }
   ],
   "source": [
    "x_train2, y_train2, x_val2, y_val2, x_test2, y_test2 = spiltData(data2, y_index=close_index, train_scale=0.7, val_scale=0.2, test_scale=0.1)\n",
    "print(\"x_train.shape:\",x_train2.shape,\" y_train.shape:\",y_train2.shape,\"\\n\",\"x_val.shape:\",x_val2.shape,\" y_val.shape:\",y_val2.shape,\"\\n\",\"x_test.shape:\",x_test2.shape,\" y_test.shape:\",y_test2.shape)"
   ]
  },
  {
   "cell_type": "code",
   "execution_count": 64,
   "metadata": {},
   "outputs": [],
   "source": [
    "def form(data: np.ndarray, scale=0.2, x_index=False, minMax=False):\n",
    "    \"\"\"\n",
    "    获取价格形态向量\n",
    "    :param data: 一维数据list\n",
    "    :param scale: 特征点比例\n",
    "    :param x_index: 是否带index（绘图可能需要）\n",
    "    :param minMax: 是否进行minMax标准化\n",
    "    :return: 一维形态向量\n",
    "    \"\"\"\n",
    "    # 如果data不是list,转换为list\n",
    "    if not isinstance(data, list):\n",
    "        data = data.tolist()\n",
    "\n",
    "\n",
    "    if minMax:\n",
    "        # 归一化\n",
    "        data = np.array(data)\n",
    "        data = (data - np.min(data)) / (np.max(data) - np.min(data))\n",
    "\n",
    "    # 关键价格点指标\n",
    "    index = []\n",
    "    for i in range(1, len(data)-1):\n",
    "        index_i = np.abs(data[i]-(data[i-1]+data[i+1])/2)\n",
    "        index.append(index_i)\n",
    "    # 给index增加一个维度，数值为降序排列的序号\n",
    "    index = np.array(index)\n",
    "    index = np.expand_dims(index, axis=1)\n",
    "    index = np.concatenate((index, np.arange(len(index)).reshape(-1, 1)), axis=1)\n",
    "    threshold = int(scale*len(index))\n",
    "    # 只保留第二维度数值排名前threshold的关键价格点\n",
    "    index = index[index[:, 0].argsort()[::-1][:threshold+1]]\n",
    "    # 按照第二维度数值从小到大排序\n",
    "    index = index[index[:, 1].argsort()]\n",
    "\n",
    "    # 取出关键价格点的下标\n",
    "    temp = index[:, 1].astype(int)\n",
    "    data_scale = []\n",
    "    # 将data中下标为temp的数值取出，组成data_scale\n",
    "    for i in range(len(temp)):\n",
    "        data_scale.append(data[temp[i]])\n",
    "    # 首尾\n",
    "    data_scale.insert(0, data[0])\n",
    "    data_scale.append(data[-1])\n",
    "\n",
    "    # temp首位插入0\n",
    "    temp = np.insert(temp, 0, 0)\n",
    "    # temp尾部插入len(data)-1\n",
    "    temp = np.append(temp, len(data)-1)\n",
    "\n",
    "\n",
    "    if x_index:\n",
    "        # 给data_scale增加一个维度，数值为temp\n",
    "        data_scale = np.expand_dims(data_scale, axis=1)\n",
    "        data_scale = np.concatenate((data_scale, temp.reshape(-1, 1)), axis=1)\n",
    "\n",
    "    return data_scale"
   ]
  },
  {
   "cell_type": "code",
   "execution_count": 65,
   "metadata": {},
   "outputs": [
    {
     "data": {
      "text/plain": [
       "(20, 2)"
      ]
     },
     "execution_count": 65,
     "metadata": {},
     "output_type": "execute_result"
    }
   ],
   "source": [
    "x_1 = x_train2[5][:,close_index]\n",
    "\n",
    "x_1_expand = np.expand_dims(x_1, axis=1)\n",
    "x_1_expand  = np.concatenate((x_1_expand  ,np.arange(len(x_1_expand )).reshape(-1, 1)), axis=1)\n",
    "# x_1.shape\n",
    "\n",
    "\n",
    "# 对x_1也归一化\n",
    "x_1_scale = np.array(x_1)\n",
    "x_1_scale = (x_1_scale - np.min(x_1_scale)) / (np.max(x_1_scale) - np.min(x_1_scale))\n",
    "\n",
    "x_1_scale = np.expand_dims(x_1_scale, axis=1)\n",
    "x_1_scale = np.concatenate((x_1_scale, np.arange(len(x_1_scale)).reshape(-1, 1)), axis=1)\n",
    "x_1_scale.shape"
   ]
  },
  {
   "cell_type": "code",
   "execution_count": 66,
   "metadata": {},
   "outputs": [
    {
     "data": {
      "text/plain": [
       "array([[ 0.        ,  0.        ],\n",
       "       [ 0.        ,  0.        ],\n",
       "       [ 0.32077071,  3.        ],\n",
       "       [ 0.34012385,  9.        ],\n",
       "       [ 0.70222546, 13.        ],\n",
       "       [ 0.94540931, 19.        ]])"
      ]
     },
     "execution_count": 66,
     "metadata": {},
     "output_type": "execute_result"
    }
   ],
   "source": [
    "x_1_trend = form(x_1_expand.T[0], scale=0.2, x_index=True, minMax=True)\n",
    "x_1_trend"
   ]
  },
  {
   "cell_type": "code",
   "execution_count": 67,
   "metadata": {},
   "outputs": [
    {
     "data": {
      "image/png": "[encoded data removed]",
      "text/plain": [
       "<Figure size 800x550 with 1 Axes>"
      ]
     },
     "metadata": {},
     "output_type": "display_data"
    }
   ],
   "source": [
    "# 价格形态示例\n",
    "plt.plot(x_1_scale.T[1], x_1_scale.T[0], label=\"原始数据\",color=\"red\")\n",
    "plt.plot(x_1_trend.T[1], x_1_trend.T[0], label=\"价格形态向量\",color=\"blue\",\n",
    "         marker=\"o\", markersize=5,markeredgecolor=\"blue\"\n",
    "         )\n",
    "# 设置y刻度范围\n",
    "plt.ylim(0,1)\n",
    "\n",
    "plt.show()"
   ]
  },
  {
   "cell_type": "code",
   "execution_count": 68,
   "metadata": {},
   "outputs": [],
   "source": [
    "def getForm(data, close_index = 0, scale=0.2, x_index=False, minMax=False):\n",
    "    \"\"\"\n",
    "    获取价格形态向量\n",
    "    :param data: 传入训练集整体\n",
    "    :param scale: 特征点比例\n",
    "    :param x_index: 是否返回x轴下标\n",
    "    :param minMax: 是否进行一组时间步内部的归一化\n",
    "    :return: 返回增加所有训练集的价格形态向量\n",
    "    \"\"\"\n",
    "    data_colse = data[:, :, close_index]\n",
    "    data_form = []\n",
    "    for i in range(len(data_colse)):\n",
    "        data_form.append(form(data_colse.T[:,i], scale=scale, x_index=x_index, minMax=minMax))\n",
    "    return np.array(data_form)"
   ]
  },
  {
   "cell_type": "code",
   "execution_count": 69,
   "metadata": {},
   "outputs": [
    {
     "data": {
      "text/plain": [
       "(2410, 21, 5)"
      ]
     },
     "execution_count": 69,
     "metadata": {},
     "output_type": "execute_result"
    }
   ],
   "source": [
    "data2.shape"
   ]
  },
  {
   "cell_type": "code",
   "execution_count": 70,
   "metadata": {},
   "outputs": [],
   "source": [
    "x_train_form2 = getForm(data2, scale=0.2, x_index=False, minMax=True)"
   ]
  },
  {
   "cell_type": "code",
   "execution_count": 71,
   "metadata": {},
   "outputs": [
    {
     "data": {
      "text/plain": [
       "array([[0.15832353, 0.18200727, 0.        , 0.36087722, 0.38265012,\n",
       "        1.        ],\n",
       "       [0.19922734, 0.17877401, 0.        , 0.35446642, 0.37585254,\n",
       "        1.        ],\n",
       "       [0.14595503, 0.16411794, 0.        , 0.32540692, 0.34503978,\n",
       "        1.        ],\n",
       "       ...,\n",
       "       [0.14596466, 0.14596466, 0.39141152, 0.77024374, 0.382307  ,\n",
       "        0.25317158],\n",
       "       [0.39141152, 0.39141152, 0.77024374, 0.72794829, 0.382307  ,\n",
       "        0.16751556],\n",
       "       [0.25130951, 0.77024374, 0.72794829, 0.382307  , 0.08980952,\n",
       "        0.2553442 ]])"
      ]
     },
     "execution_count": 71,
     "metadata": {},
     "output_type": "execute_result"
    }
   ],
   "source": [
    "x_train_form2"
   ]
  },
  {
   "cell_type": "code",
   "execution_count": 72,
   "metadata": {},
   "outputs": [
    {
     "data": {
      "text/plain": [
       "(2410, 6)"
      ]
     },
     "execution_count": 72,
     "metadata": {},
     "output_type": "execute_result"
    }
   ],
   "source": [
    "x_train_form2.shape"
   ]
  },
  {
   "cell_type": "code",
   "execution_count": 73,
   "metadata": {},
   "outputs": [
    {
     "data": {
      "image/png": "[encoded data removed]",
      "text/plain": [
       "<Figure size 800x550 with 2 Axes>"
      ]
     },
     "metadata": {},
     "output_type": "display_data"
    },
    {
     "data": {
      "image/png": "[encoded data removed]",
      "text/plain": [
       "<Figure size 800x550 with 1 Axes>"
      ]
     },
     "metadata": {},
     "output_type": "display_data"
    },
    {
     "data": {
      "text/plain": [
       "<AxesSubplot:title={'center':'Silhouette Plot of KMeans Clustering for 2410 Samples in 6 Centers'}, xlabel='silhouette coefficient values', ylabel='cluster label'>"
      ]
     },
     "execution_count": 73,
     "metadata": {},
     "output_type": "execute_result"
    }
   ],
   "source": [
    "# K-means聚类\n",
    "from sklearn.cluster import KMeans\n",
    "from yellowbrick.cluster import KElbowVisualizer\n",
    "from yellowbrick.cluster import SilhouetteVisualizer\n",
    "\n",
    "# 加载数据\n",
    "X2 = x_train_form2\n",
    "\n",
    "# 定义KMeans模型\n",
    "k_model2 = KMeans()\n",
    "\n",
    "# 使用elbow方法确定最佳的k值\n",
    "visualizer = KElbowVisualizer(k_model2, k=(2,15))\n",
    "visualizer.fit(X2)\n",
    "visualizer.show()\n",
    "\n",
    "# 根据最佳的k值进行聚类\n",
    "best_k = visualizer.elbow_value_\n",
    "model_k2 = KMeans(n_clusters=best_k)\n",
    "model_k2.fit(X2)\n",
    "\n",
    "# 可视化聚类结果\n",
    "\n",
    "\n",
    "visualizer = SilhouetteVisualizer(model_k2)\n",
    "visualizer.fit(X2)\n",
    "visualizer.show()\n"
   ]
  },
  {
   "cell_type": "code",
   "execution_count": 74,
   "metadata": {},
   "outputs": [
    {
     "data": {
      "text/plain": [
       "array([1, 1, 1, ..., 5, 5, 2])"
      ]
     },
     "execution_count": 74,
     "metadata": {},
     "output_type": "execute_result"
    }
   ],
   "source": [
    "# 获取聚类结果\n",
    "y_train_form2 = model_k2.labels_\n",
    "y_train_form2\n"
   ]
  },
  {
   "cell_type": "code",
   "execution_count": 75,
   "metadata": {},
   "outputs": [
    {
     "data": {
      "text/plain": [
       "1    537\n",
       "2    490\n",
       "3    430\n",
       "0    338\n",
       "4    327\n",
       "5    288\n",
       "dtype: int64"
      ]
     },
     "execution_count": 75,
     "metadata": {},
     "output_type": "execute_result"
    }
   ],
   "source": [
    "# 查看y_train_form2中各个类别的数量\n",
    "pd.Series(y_train_form2).value_counts()\n"
   ]
  },
  {
   "cell_type": "code",
   "execution_count": 76,
   "metadata": {},
   "outputs": [],
   "source": [
    "# 针对每一种类别，选出一组数据\n",
    "x_train_form_0 = np.mean((x_train_form2[y_train_form2 == 0]), axis=0)\n",
    "x_train_form_1 = np.mean((x_train_form2[y_train_form2 == 1]), axis=0)\n",
    "x_train_form_2 = np.mean((x_train_form2[y_train_form2 == 2]), axis=0)\n",
    "x_train_form_3 = np.mean((x_train_form2[y_train_form2 == 3]), axis=0)\n",
    "x_train_form_4 = np.mean((x_train_form2[y_train_form2 == 4]), axis=0)\n",
    "x_train_form_5 = np.mean((x_train_form2[y_train_form2 == 5]), axis=0)"
   ]
  },
  {
   "cell_type": "code",
   "execution_count": 77,
   "metadata": {},
   "outputs": [
    {
     "data": {
      "text/plain": [
       "(6,)"
      ]
     },
     "execution_count": 77,
     "metadata": {},
     "output_type": "execute_result"
    }
   ],
   "source": [
    "x_train_form_0.shape"
   ]
  },
  {
   "cell_type": "code",
   "execution_count": 78,
   "metadata": {},
   "outputs": [
    {
     "data": {
      "text/plain": [
       "array([0.70503013, 0.77652156, 0.78468884, 0.7528491 , 0.45740766,\n",
       "       0.17558824])"
      ]
     },
     "execution_count": 78,
     "metadata": {},
     "output_type": "execute_result"
    }
   ],
   "source": [
    "x_train_form_0"
   ]
  },
  {
   "cell_type": "code",
   "execution_count": 79,
   "metadata": {},
   "outputs": [
    {
     "data": {
      "image/png": "[encoded data removed]",
      "text/plain": [
       "<Figure size 1200x600 with 6 Axes>"
      ]
     },
     "metadata": {},
     "output_type": "display_data"
    }
   ],
   "source": [
    "# 创建3*2画布。以整数0~12为横轴，以x_train_form的第二维度数值为纵轴，画出折线图\n",
    "plt.figure(figsize=(12, 6))\n",
    "plt.subplot(2, 3, 1)\n",
    "plt.plot(np.arange(1, 7), x_train_form_0, label=\"价格形态向量0\",color=\"blue\",\n",
    "         marker=\"o\", markersize=5,markeredgecolor=\"blue\"\n",
    "         )\n",
    "plt.subplot(2, 3, 2)\n",
    "plt.plot(np.arange(1, 7) ,x_train_form_1, label=\"价格形态向量1\",color=\"blue\",\n",
    "         marker=\"o\", markersize=5,markeredgecolor=\"blue\"\n",
    "         )\n",
    "plt.subplot(2, 3, 3)\n",
    "plt.plot(np.arange(1, 7), x_train_form_2, label=\"价格形态向量2\",color=\"blue\",\n",
    "         marker=\"o\", markersize=5,markeredgecolor=\"blue\"\n",
    "         )\n",
    "plt.subplot(2, 3, 4)\n",
    "plt.plot(np.arange(1, 7), x_train_form_3, label=\"价格形态向量3\",color=\"blue\",\n",
    "         marker=\"o\", markersize=5,markeredgecolor=\"blue\"\n",
    "         )\n",
    "plt.subplot(2, 3, 5)\n",
    "plt.plot(np.arange(1, 7), x_train_form_4, label=\"价格形态向量4\",color=\"blue\",\n",
    "         marker=\"o\", markersize=5,markeredgecolor=\"blue\"\n",
    "         )\n",
    "plt.subplot(2, 3, 6)\n",
    "plt.plot(np.arange(1, 7), x_train_form_5, label=\"价格形态向量5\",color=\"blue\",\n",
    "         marker=\"o\", markersize=5,markeredgecolor=\"blue\"\n",
    "         )\n",
    "plt.show()"
   ]
  },
  {
   "cell_type": "code",
   "execution_count": 80,
   "metadata": {},
   "outputs": [],
   "source": [
    "def add_form(data_all, form_data):\n",
    "    data_all = data_all[lag:,:,:]\n",
    "    form_onehot = np.zeros((form_data.shape[0], best_k))\n",
    "    form_onehot[np.arange(form_data.shape[0]), form_data] = 1\n",
    "    form_onehot = dataWindow(form_onehot,lookback=lag)[:data_all.shape[0],:,:]\n",
    "    data_all = np.concatenate((data_all, form_onehot), axis=2)\n",
    "    return data_all"
   ]
  },
  {
   "cell_type": "code",
   "execution_count": 81,
   "metadata": {},
   "outputs": [],
   "source": [
    "data2 = add_form(data_all=data2, form_data=y_train_form2)"
   ]
  },
  {
   "cell_type": "code",
   "execution_count": 82,
   "metadata": {},
   "outputs": [
    {
     "name": "stdout",
     "output_type": "stream",
     "text": [
      "x_train.shape: (1673, 20, 11)  y_train.shape: (1673,) \n",
      " x_val.shape: (478, 20, 11)  y_val.shape: (478,) \n",
      " x_test.shape: (239, 20, 11)  y_test.shape: (239,)\n"
     ]
    }
   ],
   "source": [
    "x_train2, y_train2, x_val2, y_val2, x_test2, y_test2 = spiltData(data2, y_index=close_index, train_scale=0.7, val_scale=0.2, test_scale=0.1)\n",
    "print(\"x_train.shape:\",x_train2.shape,\" y_train.shape:\",y_train2.shape,\"\\n\",\n",
    "      \"x_val.shape:\",x_val2.shape,\" y_val.shape:\",y_val2.shape,\"\\n\",\n",
    "      \"x_test.shape:\",x_test2.shape,\" y_test.shape:\",y_test2.shape)"
   ]
  },
  {
   "cell_type": "code",
   "execution_count": null,
   "metadata": {},
   "outputs": [],
   "source": []
  },
  {
   "cell_type": "markdown",
   "metadata": {},
   "source": [
    "# 基本价量+宏观经济特征"
   ]
  },
  {
   "cell_type": "code",
   "execution_count": 83,
   "metadata": {},
   "outputs": [
    {
     "data": {
      "text/html": [
       "<div>\n",
       "<style scoped>\n",
       "    .dataframe tbody tr th:only-of-type {\n",
       "        vertical-align: middle;\n",
       "    }\n",
       "\n",
       "    .dataframe tbody tr th {\n",
       "        vertical-align: top;\n",
       "    }\n",
       "\n",
       "    .dataframe thead th {\n",
       "        text-align: right;\n",
       "    }\n",
       "</style>\n",
       "<table border=\"1\" class=\"dataframe\">\n",
       "  <thead>\n",
       "    <tr style=\"text-align: right;\">\n",
       "      <th></th>\n",
       "      <th>7天回购利率:加权平均:最近1月(B1M):月:平均值</th>\n",
       "      <th>短期贷款利率:6个月(含)(月)</th>\n",
       "      <th>中债国债到期收益率:5年:月:平均值</th>\n",
       "      <th>中间价:新西兰元兑人民币:月:平均值</th>\n",
       "      <th>银行间同业拆借:成交金额:30天:当月值</th>\n",
       "      <th>金融机构:本外币贷款余额:初值:同比</th>\n",
       "      <th>金融机构:新增人民币贷款:当月值</th>\n",
       "      <th>金融机构:各项存款余额:同比</th>\n",
       "      <th>货币当局:储备货币:其他存款性公司存款</th>\n",
       "      <th>货币当局:国外负债</th>\n",
       "      <th>...</th>\n",
       "      <th>GDP:初步核算数:当季同比:月:均值</th>\n",
       "      <th>社会融资规模:当月值</th>\n",
       "      <th>社会融资规模:累计值</th>\n",
       "      <th>上证所:平均市盈率</th>\n",
       "      <th>上证所:A股平均市盈率</th>\n",
       "      <th>上证综合指数:月:平均值</th>\n",
       "      <th>上证A股指数:月:平均值</th>\n",
       "      <th>换手率:上证综合指数:月:平均值</th>\n",
       "      <th>涨跌幅:上证综合指数:月:平均值</th>\n",
       "      <th>市净率:万得全A:月:平均值</th>\n",
       "    </tr>\n",
       "    <tr>\n",
       "      <th>trade_date</th>\n",
       "      <th></th>\n",
       "      <th></th>\n",
       "      <th></th>\n",
       "      <th></th>\n",
       "      <th></th>\n",
       "      <th></th>\n",
       "      <th></th>\n",
       "      <th></th>\n",
       "      <th></th>\n",
       "      <th></th>\n",
       "      <th></th>\n",
       "      <th></th>\n",
       "      <th></th>\n",
       "      <th></th>\n",
       "      <th></th>\n",
       "      <th></th>\n",
       "      <th></th>\n",
       "      <th></th>\n",
       "      <th></th>\n",
       "      <th></th>\n",
       "      <th></th>\n",
       "    </tr>\n",
       "  </thead>\n",
       "  <tbody>\n",
       "    <tr>\n",
       "      <th>2013-01-01</th>\n",
       "      <td>3.174647</td>\n",
       "      <td>5.6</td>\n",
       "      <td>3.276600</td>\n",
       "      <td>5.223280</td>\n",
       "      <td>336.89</td>\n",
       "      <td>16.1</td>\n",
       "      <td>6200.0</td>\n",
       "      <td>14.6</td>\n",
       "      <td>184549.71</td>\n",
       "      <td>1076.51</td>\n",
       "      <td>...</td>\n",
       "      <td>2.566667</td>\n",
       "      <td>10705.0</td>\n",
       "      <td>36151.45</td>\n",
       "      <td>12.90</td>\n",
       "      <td>12.89</td>\n",
       "      <td>2380.363400</td>\n",
       "      <td>2491.569000</td>\n",
       "      <td>0.619347</td>\n",
       "      <td>-0.047874</td>\n",
       "      <td>1.862261</td>\n",
       "    </tr>\n",
       "    <tr>\n",
       "      <th>2013-02-01</th>\n",
       "      <td>3.301505</td>\n",
       "      <td>5.6</td>\n",
       "      <td>3.291057</td>\n",
       "      <td>5.146524</td>\n",
       "      <td>766.60</td>\n",
       "      <td>16.0</td>\n",
       "      <td>10625.0</td>\n",
       "      <td>15.6</td>\n",
       "      <td>192318.96</td>\n",
       "      <td>1295.98</td>\n",
       "      <td>...</td>\n",
       "      <td>2.566667</td>\n",
       "      <td>25503.0</td>\n",
       "      <td>61654.00</td>\n",
       "      <td>12.19</td>\n",
       "      <td>12.18</td>\n",
       "      <td>2296.431095</td>\n",
       "      <td>2403.647571</td>\n",
       "      <td>0.561943</td>\n",
       "      <td>-0.256607</td>\n",
       "      <td>1.788571</td>\n",
       "    </tr>\n",
       "    <tr>\n",
       "      <th>2013-03-01</th>\n",
       "      <td>3.211562</td>\n",
       "      <td>5.6</td>\n",
       "      <td>3.204062</td>\n",
       "      <td>5.237842</td>\n",
       "      <td>588.26</td>\n",
       "      <td>16.1</td>\n",
       "      <td>7923.0</td>\n",
       "      <td>16.2</td>\n",
       "      <td>190587.96</td>\n",
       "      <td>1267.65</td>\n",
       "      <td>...</td>\n",
       "      <td>2.500000</td>\n",
       "      <td>17629.0</td>\n",
       "      <td>79283.00</td>\n",
       "      <td>11.89</td>\n",
       "      <td>11.89</td>\n",
       "      <td>2211.796056</td>\n",
       "      <td>2314.957778</td>\n",
       "      <td>0.420194</td>\n",
       "      <td>-0.142696</td>\n",
       "      <td>1.688423</td>\n",
       "    </tr>\n",
       "    <tr>\n",
       "      <th>2013-04-01</th>\n",
       "      <td>3.415759</td>\n",
       "      <td>5.6</td>\n",
       "      <td>3.129682</td>\n",
       "      <td>5.060916</td>\n",
       "      <td>748.42</td>\n",
       "      <td>15.6</td>\n",
       "      <td>6694.0</td>\n",
       "      <td>16.2</td>\n",
       "      <td>189818.91</td>\n",
       "      <td>1220.51</td>\n",
       "      <td>...</td>\n",
       "      <td>2.500000</td>\n",
       "      <td>11871.0</td>\n",
       "      <td>91154.00</td>\n",
       "      <td>11.81</td>\n",
       "      <td>11.81</td>\n",
       "      <td>2264.514773</td>\n",
       "      <td>2370.196409</td>\n",
       "      <td>0.525509</td>\n",
       "      <td>0.252207</td>\n",
       "      <td>1.697471</td>\n",
       "    </tr>\n",
       "    <tr>\n",
       "      <th>2013-05-01</th>\n",
       "      <td>5.566932</td>\n",
       "      <td>5.6</td>\n",
       "      <td>3.323942</td>\n",
       "      <td>4.852271</td>\n",
       "      <td>160.51</td>\n",
       "      <td>15.1</td>\n",
       "      <td>8628.0</td>\n",
       "      <td>14.3</td>\n",
       "      <td>197945.13</td>\n",
       "      <td>1127.07</td>\n",
       "      <td>...</td>\n",
       "      <td>2.500000</td>\n",
       "      <td>10375.0</td>\n",
       "      <td>101529.00</td>\n",
       "      <td>10.17</td>\n",
       "      <td>10.16</td>\n",
       "      <td>2119.149176</td>\n",
       "      <td>2217.954235</td>\n",
       "      <td>0.455676</td>\n",
       "      <td>-0.869303</td>\n",
       "      <td>1.632460</td>\n",
       "    </tr>\n",
       "  </tbody>\n",
       "</table>\n",
       "<p>5 rows × 50 columns</p>\n",
       "</div>"
      ],
      "text/plain": [
       "            7天回购利率:加权平均:最近1月(B1M):月:平均值  短期贷款利率:6个月(含)(月)  中债国债到期收益率:5年:月:平均值  \\\n",
       "trade_date                                                                      \n",
       "2013-01-01                     3.174647               5.6            3.276600   \n",
       "2013-02-01                     3.301505               5.6            3.291057   \n",
       "2013-03-01                     3.211562               5.6            3.204062   \n",
       "2013-04-01                     3.415759               5.6            3.129682   \n",
       "2013-05-01                     5.566932               5.6            3.323942   \n",
       "\n",
       "            中间价:新西兰元兑人民币:月:平均值  银行间同业拆借:成交金额:30天:当月值  金融机构:本外币贷款余额:初值:同比  \\\n",
       "trade_date                                                                 \n",
       "2013-01-01            5.223280                336.89                16.1   \n",
       "2013-02-01            5.146524                766.60                16.0   \n",
       "2013-03-01            5.237842                588.26                16.1   \n",
       "2013-04-01            5.060916                748.42                15.6   \n",
       "2013-05-01            4.852271                160.51                15.1   \n",
       "\n",
       "            金融机构:新增人民币贷款:当月值  金融机构:各项存款余额:同比  货币当局:储备货币:其他存款性公司存款  货币当局:国外负债  \\\n",
       "trade_date                                                                     \n",
       "2013-01-01            6200.0            14.6            184549.71    1076.51   \n",
       "2013-02-01           10625.0            15.6            192318.96    1295.98   \n",
       "2013-03-01            7923.0            16.2            190587.96    1267.65   \n",
       "2013-04-01            6694.0            16.2            189818.91    1220.51   \n",
       "2013-05-01            8628.0            14.3            197945.13    1127.07   \n",
       "\n",
       "            ...  GDP:初步核算数:当季同比:月:均值  社会融资规模:当月值  社会融资规模:累计值  上证所:平均市盈率  \\\n",
       "trade_date  ...                                                           \n",
       "2013-01-01  ...             2.566667     10705.0    36151.45      12.90   \n",
       "2013-02-01  ...             2.566667     25503.0    61654.00      12.19   \n",
       "2013-03-01  ...             2.500000     17629.0    79283.00      11.89   \n",
       "2013-04-01  ...             2.500000     11871.0    91154.00      11.81   \n",
       "2013-05-01  ...             2.500000     10375.0   101529.00      10.17   \n",
       "\n",
       "            上证所:A股平均市盈率  上证综合指数:月:平均值  上证A股指数:月:平均值  换手率:上证综合指数:月:平均值  \\\n",
       "trade_date                                                              \n",
       "2013-01-01        12.89   2380.363400   2491.569000          0.619347   \n",
       "2013-02-01        12.18   2296.431095   2403.647571          0.561943   \n",
       "2013-03-01        11.89   2211.796056   2314.957778          0.420194   \n",
       "2013-04-01        11.81   2264.514773   2370.196409          0.525509   \n",
       "2013-05-01        10.16   2119.149176   2217.954235          0.455676   \n",
       "\n",
       "            涨跌幅:上证综合指数:月:平均值  市净率:万得全A:月:平均值  \n",
       "trade_date                                    \n",
       "2013-01-01         -0.047874        1.862261  \n",
       "2013-02-01         -0.256607        1.788571  \n",
       "2013-03-01         -0.142696        1.688423  \n",
       "2013-04-01          0.252207        1.697471  \n",
       "2013-05-01         -0.869303        1.632460  \n",
       "\n",
       "[5 rows x 50 columns]"
      ]
     },
     "execution_count": 83,
     "metadata": {},
     "output_type": "execute_result"
    }
   ],
   "source": [
    "marco_data = pd.read_csv(\"../../data/final/marcoData_selected.csv\").rename(columns={\"指标名称\":\"trade_date\"}).set_index(\"trade_date\")\n",
    "marco_data.index = pd.to_datetime(marco_data.index, format='%Y%m')\n",
    "marco_data.head()"
   ]
  },
  {
   "cell_type": "code",
   "execution_count": 84,
   "metadata": {},
   "outputs": [],
   "source": [
    "# 合并日频和月频数据的函数\n",
    "def dmMerge(df_day, df_month):\n",
    "    \"\"\"\n",
    "    :param df_day: 日频数据，index为年月日\n",
    "    :param df_month: 月品数据：index为年月\n",
    "    :return:\n",
    "    \"\"\"\n",
    "    df_day1 = df_day.copy()\n",
    "    # 在日频数据中增加宏观月度特征，取值初始化为nan\n",
    "    df_day1[df_month.columns] = np.nan\n",
    "    # 合并\n",
    "    for date1 in df_day1.index:\n",
    "        date_YM = date1.strftime(\"%Y-%m\")\n",
    "        if date_YM in df_month.index.strftime(\"%Y-%m\").tolist():\n",
    "            \n",
    "            # df_day1.at[date1, df_month.columns.to_list()] = df_month.loc[date_YM].values.tolist()[0]\n",
    "            df_day1.loc[date1, df_month.columns.to_list()] = df_month.loc[date_YM].values[0]\n",
    "\n",
    "\n",
    "    return df_day1"
   ]
  },
  {
   "cell_type": "code",
   "execution_count": 85,
   "metadata": {},
   "outputs": [
    {
     "data": {
      "text/html": [
       "<div>\n",
       "<style scoped>\n",
       "    .dataframe tbody tr th:only-of-type {\n",
       "        vertical-align: middle;\n",
       "    }\n",
       "\n",
       "    .dataframe tbody tr th {\n",
       "        vertical-align: top;\n",
       "    }\n",
       "\n",
       "    .dataframe thead th {\n",
       "        text-align: right;\n",
       "    }\n",
       "</style>\n",
       "<table border=\"1\" class=\"dataframe\">\n",
       "  <thead>\n",
       "    <tr style=\"text-align: right;\">\n",
       "      <th></th>\n",
       "      <th>close</th>\n",
       "      <th>open</th>\n",
       "      <th>high</th>\n",
       "      <th>low</th>\n",
       "      <th>vol</th>\n",
       "      <th>7天回购利率:加权平均:最近1月(B1M):月:平均值</th>\n",
       "      <th>短期贷款利率:6个月(含)(月)</th>\n",
       "      <th>中债国债到期收益率:5年:月:平均值</th>\n",
       "      <th>中间价:新西兰元兑人民币:月:平均值</th>\n",
       "      <th>银行间同业拆借:成交金额:30天:当月值</th>\n",
       "      <th>...</th>\n",
       "      <th>GDP:初步核算数:当季同比:月:均值</th>\n",
       "      <th>社会融资规模:当月值</th>\n",
       "      <th>社会融资规模:累计值</th>\n",
       "      <th>上证所:平均市盈率</th>\n",
       "      <th>上证所:A股平均市盈率</th>\n",
       "      <th>上证综合指数:月:平均值</th>\n",
       "      <th>上证A股指数:月:平均值</th>\n",
       "      <th>换手率:上证综合指数:月:平均值</th>\n",
       "      <th>涨跌幅:上证综合指数:月:平均值</th>\n",
       "      <th>市净率:万得全A:月:平均值</th>\n",
       "    </tr>\n",
       "    <tr>\n",
       "      <th>trade_date</th>\n",
       "      <th></th>\n",
       "      <th></th>\n",
       "      <th></th>\n",
       "      <th></th>\n",
       "      <th></th>\n",
       "      <th></th>\n",
       "      <th></th>\n",
       "      <th></th>\n",
       "      <th></th>\n",
       "      <th></th>\n",
       "      <th></th>\n",
       "      <th></th>\n",
       "      <th></th>\n",
       "      <th></th>\n",
       "      <th></th>\n",
       "      <th></th>\n",
       "      <th></th>\n",
       "      <th></th>\n",
       "      <th></th>\n",
       "      <th></th>\n",
       "      <th></th>\n",
       "    </tr>\n",
       "  </thead>\n",
       "  <tbody>\n",
       "    <tr>\n",
       "      <th>2013-01-04</th>\n",
       "      <td>2524.4090</td>\n",
       "      <td>2551.8140</td>\n",
       "      <td>2558.5290</td>\n",
       "      <td>2498.8920</td>\n",
       "      <td>97988182</td>\n",
       "      <td>3.174647</td>\n",
       "      <td>5.60</td>\n",
       "      <td>3.276600</td>\n",
       "      <td>5.22328</td>\n",
       "      <td>336.89</td>\n",
       "      <td>...</td>\n",
       "      <td>2.566667</td>\n",
       "      <td>10705.0</td>\n",
       "      <td>36151.45</td>\n",
       "      <td>12.90</td>\n",
       "      <td>12.89</td>\n",
       "      <td>2380.363400</td>\n",
       "      <td>2491.569000</td>\n",
       "      <td>0.619347</td>\n",
       "      <td>-0.047874</td>\n",
       "      <td>1.862261</td>\n",
       "    </tr>\n",
       "    <tr>\n",
       "      <th>2013-01-07</th>\n",
       "      <td>2535.9850</td>\n",
       "      <td>2518.0470</td>\n",
       "      <td>2545.9690</td>\n",
       "      <td>2511.6030</td>\n",
       "      <td>75167993</td>\n",
       "      <td>3.174647</td>\n",
       "      <td>5.60</td>\n",
       "      <td>3.276600</td>\n",
       "      <td>5.22328</td>\n",
       "      <td>336.89</td>\n",
       "      <td>...</td>\n",
       "      <td>2.566667</td>\n",
       "      <td>10705.0</td>\n",
       "      <td>36151.45</td>\n",
       "      <td>12.90</td>\n",
       "      <td>12.89</td>\n",
       "      <td>2380.363400</td>\n",
       "      <td>2491.569000</td>\n",
       "      <td>0.619347</td>\n",
       "      <td>-0.047874</td>\n",
       "      <td>1.862261</td>\n",
       "    </tr>\n",
       "    <tr>\n",
       "      <th>2013-01-08</th>\n",
       "      <td>2525.3300</td>\n",
       "      <td>2534.6470</td>\n",
       "      <td>2540.5130</td>\n",
       "      <td>2502.4900</td>\n",
       "      <td>71837100</td>\n",
       "      <td>3.174647</td>\n",
       "      <td>5.60</td>\n",
       "      <td>3.276600</td>\n",
       "      <td>5.22328</td>\n",
       "      <td>336.89</td>\n",
       "      <td>...</td>\n",
       "      <td>2.566667</td>\n",
       "      <td>10705.0</td>\n",
       "      <td>36151.45</td>\n",
       "      <td>12.90</td>\n",
       "      <td>12.89</td>\n",
       "      <td>2380.363400</td>\n",
       "      <td>2491.569000</td>\n",
       "      <td>0.619347</td>\n",
       "      <td>-0.047874</td>\n",
       "      <td>1.862261</td>\n",
       "    </tr>\n",
       "    <tr>\n",
       "      <th>2013-01-09</th>\n",
       "      <td>2526.1260</td>\n",
       "      <td>2518.1040</td>\n",
       "      <td>2534.2390</td>\n",
       "      <td>2504.2990</td>\n",
       "      <td>70231170</td>\n",
       "      <td>3.174647</td>\n",
       "      <td>5.60</td>\n",
       "      <td>3.276600</td>\n",
       "      <td>5.22328</td>\n",
       "      <td>336.89</td>\n",
       "      <td>...</td>\n",
       "      <td>2.566667</td>\n",
       "      <td>10705.0</td>\n",
       "      <td>36151.45</td>\n",
       "      <td>12.90</td>\n",
       "      <td>12.89</td>\n",
       "      <td>2380.363400</td>\n",
       "      <td>2491.569000</td>\n",
       "      <td>0.619347</td>\n",
       "      <td>-0.047874</td>\n",
       "      <td>1.862261</td>\n",
       "    </tr>\n",
       "    <tr>\n",
       "      <th>2013-01-10</th>\n",
       "      <td>2530.5690</td>\n",
       "      <td>2525.5900</td>\n",
       "      <td>2553.3520</td>\n",
       "      <td>2513.7290</td>\n",
       "      <td>71085862</td>\n",
       "      <td>3.174647</td>\n",
       "      <td>5.60</td>\n",
       "      <td>3.276600</td>\n",
       "      <td>5.22328</td>\n",
       "      <td>336.89</td>\n",
       "      <td>...</td>\n",
       "      <td>2.566667</td>\n",
       "      <td>10705.0</td>\n",
       "      <td>36151.45</td>\n",
       "      <td>12.90</td>\n",
       "      <td>12.89</td>\n",
       "      <td>2380.363400</td>\n",
       "      <td>2491.569000</td>\n",
       "      <td>0.619347</td>\n",
       "      <td>-0.047874</td>\n",
       "      <td>1.862261</td>\n",
       "    </tr>\n",
       "    <tr>\n",
       "      <th>...</th>\n",
       "      <td>...</td>\n",
       "      <td>...</td>\n",
       "      <td>...</td>\n",
       "      <td>...</td>\n",
       "      <td>...</td>\n",
       "      <td>...</td>\n",
       "      <td>...</td>\n",
       "      <td>...</td>\n",
       "      <td>...</td>\n",
       "      <td>...</td>\n",
       "      <td>...</td>\n",
       "      <td>...</td>\n",
       "      <td>...</td>\n",
       "      <td>...</td>\n",
       "      <td>...</td>\n",
       "      <td>...</td>\n",
       "      <td>...</td>\n",
       "      <td>...</td>\n",
       "      <td>...</td>\n",
       "      <td>...</td>\n",
       "      <td>...</td>\n",
       "    </tr>\n",
       "    <tr>\n",
       "      <th>2022-11-24</th>\n",
       "      <td>3756.8082</td>\n",
       "      <td>3791.5399</td>\n",
       "      <td>3804.8987</td>\n",
       "      <td>3751.3818</td>\n",
       "      <td>101073447</td>\n",
       "      <td>2.078113</td>\n",
       "      <td>4.35</td>\n",
       "      <td>2.680843</td>\n",
       "      <td>4.43120</td>\n",
       "      <td>330.63</td>\n",
       "      <td>...</td>\n",
       "      <td>0.966667</td>\n",
       "      <td>13058.0</td>\n",
       "      <td>320100.00</td>\n",
       "      <td>12.78</td>\n",
       "      <td>11.67</td>\n",
       "      <td>3135.425418</td>\n",
       "      <td>3286.463823</td>\n",
       "      <td>0.645945</td>\n",
       "      <td>-0.087810</td>\n",
       "      <td>1.615206</td>\n",
       "    </tr>\n",
       "    <tr>\n",
       "      <th>2022-11-25</th>\n",
       "      <td>3775.7764</td>\n",
       "      <td>3751.2822</td>\n",
       "      <td>3790.5660</td>\n",
       "      <td>3743.4138</td>\n",
       "      <td>142929711</td>\n",
       "      <td>2.078113</td>\n",
       "      <td>4.35</td>\n",
       "      <td>2.680843</td>\n",
       "      <td>4.43120</td>\n",
       "      <td>330.63</td>\n",
       "      <td>...</td>\n",
       "      <td>0.966667</td>\n",
       "      <td>13058.0</td>\n",
       "      <td>320100.00</td>\n",
       "      <td>12.78</td>\n",
       "      <td>11.67</td>\n",
       "      <td>3135.425418</td>\n",
       "      <td>3286.463823</td>\n",
       "      <td>0.645945</td>\n",
       "      <td>-0.087810</td>\n",
       "      <td>1.615206</td>\n",
       "    </tr>\n",
       "    <tr>\n",
       "      <th>2022-11-28</th>\n",
       "      <td>3733.2424</td>\n",
       "      <td>3701.9020</td>\n",
       "      <td>3736.0813</td>\n",
       "      <td>3672.1306</td>\n",
       "      <td>127825748</td>\n",
       "      <td>2.078113</td>\n",
       "      <td>4.35</td>\n",
       "      <td>2.680843</td>\n",
       "      <td>4.43120</td>\n",
       "      <td>330.63</td>\n",
       "      <td>...</td>\n",
       "      <td>0.966667</td>\n",
       "      <td>13058.0</td>\n",
       "      <td>320100.00</td>\n",
       "      <td>12.78</td>\n",
       "      <td>11.67</td>\n",
       "      <td>3135.425418</td>\n",
       "      <td>3286.463823</td>\n",
       "      <td>0.645945</td>\n",
       "      <td>-0.087810</td>\n",
       "      <td>1.615206</td>\n",
       "    </tr>\n",
       "    <tr>\n",
       "      <th>2022-11-29</th>\n",
       "      <td>3848.4224</td>\n",
       "      <td>3766.5702</td>\n",
       "      <td>3854.7742</td>\n",
       "      <td>3766.5702</td>\n",
       "      <td>178701392</td>\n",
       "      <td>2.078113</td>\n",
       "      <td>4.35</td>\n",
       "      <td>2.680843</td>\n",
       "      <td>4.43120</td>\n",
       "      <td>330.63</td>\n",
       "      <td>...</td>\n",
       "      <td>0.966667</td>\n",
       "      <td>13058.0</td>\n",
       "      <td>320100.00</td>\n",
       "      <td>12.78</td>\n",
       "      <td>11.67</td>\n",
       "      <td>3135.425418</td>\n",
       "      <td>3286.463823</td>\n",
       "      <td>0.645945</td>\n",
       "      <td>-0.087810</td>\n",
       "      <td>1.615206</td>\n",
       "    </tr>\n",
       "    <tr>\n",
       "      <th>2022-11-30</th>\n",
       "      <td>3853.0365</td>\n",
       "      <td>3836.5598</td>\n",
       "      <td>3867.6591</td>\n",
       "      <td>3833.8272</td>\n",
       "      <td>157511400</td>\n",
       "      <td>2.078113</td>\n",
       "      <td>4.35</td>\n",
       "      <td>2.680843</td>\n",
       "      <td>4.43120</td>\n",
       "      <td>330.63</td>\n",
       "      <td>...</td>\n",
       "      <td>0.966667</td>\n",
       "      <td>13058.0</td>\n",
       "      <td>320100.00</td>\n",
       "      <td>12.78</td>\n",
       "      <td>11.67</td>\n",
       "      <td>3135.425418</td>\n",
       "      <td>3286.463823</td>\n",
       "      <td>0.645945</td>\n",
       "      <td>-0.087810</td>\n",
       "      <td>1.615206</td>\n",
       "    </tr>\n",
       "  </tbody>\n",
       "</table>\n",
       "<p>2408 rows × 55 columns</p>\n",
       "</div>"
      ],
      "text/plain": [
       "                close       open       high        low        vol  \\\n",
       "trade_date                                                          \n",
       "2013-01-04  2524.4090  2551.8140  2558.5290  2498.8920   97988182   \n",
       "2013-01-07  2535.9850  2518.0470  2545.9690  2511.6030   75167993   \n",
       "2013-01-08  2525.3300  2534.6470  2540.5130  2502.4900   71837100   \n",
       "2013-01-09  2526.1260  2518.1040  2534.2390  2504.2990   70231170   \n",
       "2013-01-10  2530.5690  2525.5900  2553.3520  2513.7290   71085862   \n",
       "...               ...        ...        ...        ...        ...   \n",
       "2022-11-24  3756.8082  3791.5399  3804.8987  3751.3818  101073447   \n",
       "2022-11-25  3775.7764  3751.2822  3790.5660  3743.4138  142929711   \n",
       "2022-11-28  3733.2424  3701.9020  3736.0813  3672.1306  127825748   \n",
       "2022-11-29  3848.4224  3766.5702  3854.7742  3766.5702  178701392   \n",
       "2022-11-30  3853.0365  3836.5598  3867.6591  3833.8272  157511400   \n",
       "\n",
       "            7天回购利率:加权平均:最近1月(B1M):月:平均值  短期贷款利率:6个月(含)(月)  中债国债到期收益率:5年:月:平均值  \\\n",
       "trade_date                                                                      \n",
       "2013-01-04                     3.174647              5.60            3.276600   \n",
       "2013-01-07                     3.174647              5.60            3.276600   \n",
       "2013-01-08                     3.174647              5.60            3.276600   \n",
       "2013-01-09                     3.174647              5.60            3.276600   \n",
       "2013-01-10                     3.174647              5.60            3.276600   \n",
       "...                                 ...               ...                 ...   \n",
       "2022-11-24                     2.078113              4.35            2.680843   \n",
       "2022-11-25                     2.078113              4.35            2.680843   \n",
       "2022-11-28                     2.078113              4.35            2.680843   \n",
       "2022-11-29                     2.078113              4.35            2.680843   \n",
       "2022-11-30                     2.078113              4.35            2.680843   \n",
       "\n",
       "            中间价:新西兰元兑人民币:月:平均值  银行间同业拆借:成交金额:30天:当月值  ...  \\\n",
       "trade_date                                            ...   \n",
       "2013-01-04             5.22328                336.89  ...   \n",
       "2013-01-07             5.22328                336.89  ...   \n",
       "2013-01-08             5.22328                336.89  ...   \n",
       "2013-01-09             5.22328                336.89  ...   \n",
       "2013-01-10             5.22328                336.89  ...   \n",
       "...                        ...                   ...  ...   \n",
       "2022-11-24             4.43120                330.63  ...   \n",
       "2022-11-25             4.43120                330.63  ...   \n",
       "2022-11-28             4.43120                330.63  ...   \n",
       "2022-11-29             4.43120                330.63  ...   \n",
       "2022-11-30             4.43120                330.63  ...   \n",
       "\n",
       "            GDP:初步核算数:当季同比:月:均值  社会融资规模:当月值  社会融资规模:累计值  上证所:平均市盈率  \\\n",
       "trade_date                                                           \n",
       "2013-01-04             2.566667     10705.0    36151.45      12.90   \n",
       "2013-01-07             2.566667     10705.0    36151.45      12.90   \n",
       "2013-01-08             2.566667     10705.0    36151.45      12.90   \n",
       "2013-01-09             2.566667     10705.0    36151.45      12.90   \n",
       "2013-01-10             2.566667     10705.0    36151.45      12.90   \n",
       "...                         ...         ...         ...        ...   \n",
       "2022-11-24             0.966667     13058.0   320100.00      12.78   \n",
       "2022-11-25             0.966667     13058.0   320100.00      12.78   \n",
       "2022-11-28             0.966667     13058.0   320100.00      12.78   \n",
       "2022-11-29             0.966667     13058.0   320100.00      12.78   \n",
       "2022-11-30             0.966667     13058.0   320100.00      12.78   \n",
       "\n",
       "            上证所:A股平均市盈率  上证综合指数:月:平均值  上证A股指数:月:平均值  换手率:上证综合指数:月:平均值  \\\n",
       "trade_date                                                              \n",
       "2013-01-04        12.89   2380.363400   2491.569000          0.619347   \n",
       "2013-01-07        12.89   2380.363400   2491.569000          0.619347   \n",
       "2013-01-08        12.89   2380.363400   2491.569000          0.619347   \n",
       "2013-01-09        12.89   2380.363400   2491.569000          0.619347   \n",
       "2013-01-10        12.89   2380.363400   2491.569000          0.619347   \n",
       "...                 ...           ...           ...               ...   \n",
       "2022-11-24        11.67   3135.425418   3286.463823          0.645945   \n",
       "2022-11-25        11.67   3135.425418   3286.463823          0.645945   \n",
       "2022-11-28        11.67   3135.425418   3286.463823          0.645945   \n",
       "2022-11-29        11.67   3135.425418   3286.463823          0.645945   \n",
       "2022-11-30        11.67   3135.425418   3286.463823          0.645945   \n",
       "\n",
       "            涨跌幅:上证综合指数:月:平均值  市净率:万得全A:月:平均值  \n",
       "trade_date                                    \n",
       "2013-01-04         -0.047874        1.862261  \n",
       "2013-01-07         -0.047874        1.862261  \n",
       "2013-01-08         -0.047874        1.862261  \n",
       "2013-01-09         -0.047874        1.862261  \n",
       "2013-01-10         -0.047874        1.862261  \n",
       "...                      ...             ...  \n",
       "2022-11-24         -0.087810        1.615206  \n",
       "2022-11-25         -0.087810        1.615206  \n",
       "2022-11-28         -0.087810        1.615206  \n",
       "2022-11-29         -0.087810        1.615206  \n",
       "2022-11-30         -0.087810        1.615206  \n",
       "\n",
       "[2408 rows x 55 columns]"
      ]
     },
     "execution_count": 85,
     "metadata": {},
     "output_type": "execute_result"
    }
   ],
   "source": [
    "basic_marco = dmMerge(df_day = basic_data, df_month = marco_data).dropna(axis=0, how='any')\n",
    "basic_marco"
   ]
  },
  {
   "cell_type": "code",
   "execution_count": 86,
   "metadata": {},
   "outputs": [],
   "source": [
    "# 标准化\n",
    "scaler3 = MinMaxScaler()\n",
    "basic_marco_scaled = scaler3.fit_transform(basic_marco.values)\n",
    "# 存储每个特征的最值，用于inverse\n",
    "mins3 = basic_marco.min()\n",
    "maxs3 = basic_marco.max()\n",
    "y_min3 = mins3['close']\n",
    "y_max3 = maxs3['close']"
   ]
  },
  {
   "cell_type": "code",
   "execution_count": 87,
   "metadata": {},
   "outputs": [
    {
     "name": "stdout",
     "output_type": "stream",
     "text": [
      "(1671, 20, 55) (1671,) (478, 20, 55) (478,) (239, 20, 55) (239,)\n"
     ]
    }
   ],
   "source": [
    "# 时间窗口+划分数据集\n",
    "data3 = dataWindow(basic_marco_scaled, 20)\n",
    "x_train3, y_train3, x_val3, y_val3, x_test3, y_test3 = spiltData(data3, y_index = 0)\n",
    "print(x_train3.shape, y_train3.shape, x_val3.shape, y_val3.shape, x_test3.shape, y_test3.shape)"
   ]
  },
  {
   "cell_type": "markdown",
   "metadata": {},
   "source": [
    "# 基本价量+价格形态+宏观特征"
   ]
  },
  {
   "cell_type": "code",
   "execution_count": 88,
   "metadata": {},
   "outputs": [],
   "source": [
    "# 价格形态特征数据\n",
    "price_form_data = basic_marco.copy()\n",
    "# 标准化\n",
    "scaler4 = MinMaxScaler()\n",
    "data_all4 = price_form_data.values\n",
    "data_all4 = scaler4.fit_transform(data_all4)\n",
    "# 存储每个特征的最值，用于inverse\n",
    "mins4 = price_form_data.min()\n",
    "maxs4 = price_form_data.max()\n",
    "y_min4 = mins4['close']\n",
    "y_max4 = maxs4['close']"
   ]
  },
  {
   "cell_type": "code",
   "execution_count": 89,
   "metadata": {},
   "outputs": [
    {
     "data": {
      "text/plain": [
       "(2388, 21, 55)"
      ]
     },
     "execution_count": 89,
     "metadata": {},
     "output_type": "execute_result"
    }
   ],
   "source": [
    "lag = 20\n",
    "data_all4 = dataWindow(data_all4, lag)\n",
    "data_all4.shape"
   ]
  },
  {
   "cell_type": "code",
   "execution_count": 90,
   "metadata": {},
   "outputs": [
    {
     "name": "stdout",
     "output_type": "stream",
     "text": [
      "x_train.shape: (1671, 20, 55)  y_train.shape: (1671,) \n",
      " x_val.shape: (478, 20, 55)  y_val.shape: (478,) \n",
      " x_test.shape: (239, 20, 55)  y_test.shape: (239,)\n"
     ]
    }
   ],
   "source": [
    "x_train4, y_train4, x_val4, y_val4, x_test4, y_test4 = spiltData(data_all4, y_index=close_index, train_scale=0.7, val_scale=0.2, test_scale=0.1)\n",
    "print(\"x_train.shape:\",x_train4.shape,\" y_train.shape:\",y_train4.shape,\"\\n\",\"x_val.shape:\",x_val4.shape,\" y_val.shape:\",y_val4.shape,\"\\n\",\"x_test.shape:\",x_test4.shape,\" y_test.shape:\",y_test4.shape)"
   ]
  },
  {
   "cell_type": "code",
   "execution_count": 91,
   "metadata": {},
   "outputs": [],
   "source": [
    "# 获取价格形态向量\n",
    "x_train_form4 = getForm(data_all4, scale=0.2, x_index=False, minMax=True)"
   ]
  },
  {
   "cell_type": "code",
   "execution_count": 92,
   "metadata": {},
   "outputs": [
    {
     "data": {
      "image/png": "[encoded data removed]",
      "text/plain": [
       "<Figure size 800x550 with 2 Axes>"
      ]
     },
     "metadata": {},
     "output_type": "display_data"
    },
    {
     "name": "stdout",
     "output_type": "stream",
     "text": [
      "6\n"
     ]
    },
    {
     "data": {
      "image/png": "[encoded data removed]",
      "text/plain": [
       "<Figure size 800x550 with 1 Axes>"
      ]
     },
     "metadata": {},
     "output_type": "display_data"
    },
    {
     "data": {
      "text/plain": [
       "<AxesSubplot:title={'center':'Silhouette Plot of KMeans Clustering for 2388 Samples in 6 Centers'}, xlabel='silhouette coefficient values', ylabel='cluster label'>"
      ]
     },
     "execution_count": 92,
     "metadata": {},
     "output_type": "execute_result"
    }
   ],
   "source": [
    "# 加载数据\n",
    "X4 = x_train_form4\n",
    "\n",
    "# 定义KMeans模型\n",
    "model4 = KMeans()\n",
    "\n",
    "# 使用elbow方法确定最佳的k值\n",
    "visualizer = KElbowVisualizer(model4, k=(2,15))\n",
    "visualizer.fit(X4)\n",
    "visualizer.show()\n",
    "\n",
    "# 根据最佳的k值进行聚类\n",
    "best_k = visualizer.elbow_value_\n",
    "print(best_k)\n",
    "model_k4 = KMeans(n_clusters=best_k)\n",
    "model_k4.fit(X4)\n",
    "\n",
    "# 可视化聚类结果\n",
    "visualizer = SilhouetteVisualizer(model_k4)\n",
    "visualizer.fit(X4)\n",
    "visualizer.show()\n"
   ]
  },
  {
   "cell_type": "code",
   "execution_count": 93,
   "metadata": {},
   "outputs": [
    {
     "data": {
      "text/plain": [
       "array([0, 0, 0, ..., 3, 0, 0])"
      ]
     },
     "execution_count": 93,
     "metadata": {},
     "output_type": "execute_result"
    }
   ],
   "source": [
    "# 获取聚类结果\n",
    "y_train_form4 = model_k4.labels_\n",
    "y_train_form4"
   ]
  },
  {
   "cell_type": "code",
   "execution_count": 94,
   "metadata": {},
   "outputs": [
    {
     "data": {
      "text/plain": [
       "0    531\n",
       "5    488\n",
       "3    425\n",
       "1    336\n",
       "4    328\n",
       "2    280\n",
       "dtype: int64"
      ]
     },
     "execution_count": 94,
     "metadata": {},
     "output_type": "execute_result"
    }
   ],
   "source": [
    "# 查看y_train_form2中各个类别的数量\n",
    "pd.Series(y_train_form4).value_counts()"
   ]
  },
  {
   "cell_type": "code",
   "execution_count": 95,
   "metadata": {},
   "outputs": [],
   "source": [
    "data_all4 = add_form(data_all = data_all4, form_data = y_train_form4)"
   ]
  },
  {
   "cell_type": "code",
   "execution_count": 96,
   "metadata": {},
   "outputs": [
    {
     "name": "stdout",
     "output_type": "stream",
     "text": [
      "x_train.shape: (1657, 20, 61)  y_train.shape: (1657,) \n",
      " x_val.shape: (474, 20, 61)  y_val.shape: (474,) \n",
      " x_test.shape: (237, 20, 61)  y_test.shape: (237,)\n"
     ]
    }
   ],
   "source": [
    "x_train4, y_train4, x_val4, y_val4, x_test4, y_test4 = spiltData(data_all4, y_index=close_index, train_scale=0.7, val_scale=0.2, test_scale=0.1)\n",
    "print(\"x_train.shape:\",x_train4.shape,\" y_train.shape:\",y_train4.shape,\"\\n\",\n",
    "      \"x_val.shape:\",x_val4.shape,\" y_val.shape:\",y_val4.shape,\"\\n\",\n",
    "      \"x_test.shape:\",x_test4.shape,\" y_test.shape:\",y_test4.shape)"
   ]
  },
  {
   "cell_type": "code",
   "execution_count": 97,
   "metadata": {},
   "outputs": [
    {
     "name": "stdout",
     "output_type": "stream",
     "text": [
      "----------Model1: 基础价量数据----------\n",
      "(1687, 20, 5) (1687,) (482, 20, 5) (482,) (241, 20, 5) (241,)\n",
      "\n",
      "\n",
      "----------Model2: 基础价量 + 价格形态数据----------\n",
      "(1673, 20, 11) (1673,) (478, 20, 11) (478,) (239, 20, 11) (239,)\n",
      "\n",
      "\n",
      "----------Model3: 基础价量 + 宏观经济数据----------\n",
      "(1671, 20, 55) (1671,) (478, 20, 55) (478,) (239, 20, 55) (239,)\n",
      "\n",
      "\n",
      "----------Model4: 基础价量 + 价格形态 + 宏观经济数据----------\n",
      "(1657, 20, 61) (1657,) (474, 20, 61) (474,) (237, 20, 61) (237,)\n",
      "\n",
      "\n",
      "\n",
      "\n",
      "----------Model1: 基础价量数据----------\n",
      "False False False False False False\n",
      "\n",
      "\n",
      "----------Model2: 基础价量 + 价格形态数据----------\n",
      "False False False False False False\n",
      "\n",
      "\n",
      "----------Model3: 基础价量 + 宏观经济数据----------\n",
      "False False False False False False\n",
      "\n",
      "\n",
      "----------Model4: 基础价量 + 价格形态 + 宏观经济数据----------\n",
      "False False False False False False\n"
     ]
    }
   ],
   "source": [
    "# 查看所有训练集、验证集、测试集合的shape\n",
    "print(\"----------Model1: 基础价量数据----------\")\n",
    "print(x_train1.shape, y_train1.shape, x_val1.shape, y_val1.shape, x_test1.shape, y_test1.shape)\n",
    "print(\"\\n\")\n",
    "print(\"----------Model2: 基础价量 + 价格形态数据----------\")\n",
    "print(x_train2.shape, y_train2.shape, x_val2.shape, y_val2.shape, x_test2.shape, y_test2.shape)\n",
    "print(\"\\n\")\n",
    "print(\"----------Model3: 基础价量 + 宏观经济数据----------\")\n",
    "print(x_train3.shape, y_train3.shape, x_val3.shape, y_val3.shape, x_test3.shape, y_test3.shape)\n",
    "print(\"\\n\")\n",
    "print(\"----------Model4: 基础价量 + 价格形态 + 宏观经济数据----------\")\n",
    "print(x_train4.shape, y_train4.shape, x_val4.shape, y_val4.shape, x_test4.shape, y_test4.shape)\n",
    "\n",
    "print(\"\\n\")\n",
    "print(\"\\n\")\n",
    "\n",
    "# 查看所有数据是否有nan\n",
    "print(\"----------Model1: 基础价量数据----------\")\n",
    "print(np.isnan(x_train1).any(), np.isnan(y_train1).any(), np.isnan(x_val1).any(), np.isnan(y_val1).any(), np.isnan(x_test1).any(), np.isnan(y_test1).any())\n",
    "print(\"\\n\")\n",
    "print(\"----------Model2: 基础价量 + 价格形态数据----------\")\n",
    "print(np.isnan(x_train2).any(), np.isnan(y_train2).any(), np.isnan(x_val2).any(), np.isnan(y_val2).any(), np.isnan(x_test2).any(), np.isnan(y_test2).any())\n",
    "print(\"\\n\")\n",
    "print(\"----------Model3: 基础价量 + 宏观经济数据----------\")\n",
    "print(np.isnan(x_train3).any(), np.isnan(y_train3).any(), np.isnan(x_val3).any(), np.isnan(y_val3).any(), np.isnan(x_test3).any(), np.isnan(y_test3).any())\n",
    "print(\"\\n\")\n",
    "print(\"----------Model4: 基础价量 + 价格形态 + 宏观经济数据----------\")\n",
    "print(np.isnan(x_train4).any(), np.isnan(y_train4).any(), np.isnan(x_val4).any(), np.isnan(y_val4).any(), np.isnan(x_test4).any(), np.isnan(y_test4).any())\n"
   ]
  },
  {
   "cell_type": "code",
   "execution_count": null,
   "metadata": {},
   "outputs": [],
   "source": []
  },
  {
   "cell_type": "markdown",
   "metadata": {},
   "source": [
    "# 模型部分"
   ]
  },
  {
   "cell_type": "code",
   "execution_count": 98,
   "metadata": {},
   "outputs": [],
   "source": [
    "device = torch.device(\"cuda\" if torch.cuda.is_available() else \"cpu\")"
   ]
  },
  {
   "cell_type": "code",
   "execution_count": 99,
   "metadata": {},
   "outputs": [],
   "source": [
    "class myLSTM(nn.Module):\n",
    "    def __init__(self, lstm_input_size, hidden_size, fc1_outputsize, num_layers, lstm_output_size=1):\n",
    "        super(myLSTM, self).__init__()\n",
    "        self.lstm_inputsize = lstm_input_size\n",
    "        self.hidden_size = hidden_size\n",
    "        self.num_layers = num_layers\n",
    "        self.fc1_outputsize = fc1_outputsize\n",
    "\n",
    "        # LSTM\n",
    "        self.lstm = nn.LSTM(input_size=lstm_input_size, hidden_size=hidden_size, num_layers=num_layers, batch_first=True)\n",
    "        self.fc1 = nn.Linear(hidden_size, fc1_outputsize)\n",
    "        self.relu_1 = nn.ReLU()\n",
    "        self.fc2 = nn.Linear(fc1_outputsize, lstm_output_size)\n",
    "\n",
    "\n",
    "    def forward(self, lstm_x):\n",
    "        if device.type == \"cuda\":\n",
    "            lstm_x = lstm_x.cuda()\n",
    "        # LSTM\n",
    "        h0 = torch.zeros(self.num_layers, lstm_x.size(0), self.hidden_size).to(device)\n",
    "        c0 = torch.zeros(self.num_layers, lstm_x.size(0), self.hidden_size).to(device)\n",
    "        # Forward propagate LSTM\n",
    "        l_out, hidden = self.lstm(lstm_x, (h0, c0))  # out: tensor of shape (batch_size, seq_length, hidden_size)\n",
    "        l_out = l_out[:, -1, :]\n",
    "        l_out = self.fc1(l_out)\n",
    "        l_out = self.relu_1(l_out)\n",
    "        l_out = self.fc2(l_out)\n",
    "        return l_out"
   ]
  },
  {
   "cell_type": "code",
   "execution_count": 100,
   "metadata": {},
   "outputs": [],
   "source": [
    "def load_data(x_train, y_train, x_val, y_val, x_test, y_test):\n",
    "    train_dataset = TensorDataset(torch.from_numpy(x_train).to(torch.float32), torch.from_numpy(y_train).to(torch.float32))\n",
    "    val_dataset=TensorDataset(torch.from_numpy(x_val).to(torch.float32), torch.from_numpy(y_val).to(torch.float32))\n",
    "    test_dataset = TensorDataset(torch.from_numpy(x_test).to(torch.float32), torch.from_numpy(y_test).to(torch.float32))\n",
    "\n",
    "\n",
    "    with FileLock(os.path.expanduser(\"~/.data.lock\")):\n",
    "        trainset = train_dataset\n",
    "        val_dataset = val_dataset\n",
    "        testset = test_dataset\n",
    "    return trainset, val_dataset, testset"
   ]
  },
  {
   "cell_type": "code",
   "execution_count": 101,
   "metadata": {},
   "outputs": [],
   "source": [
    "def train_cifar(config, x_train, y_train, x_val, y_val, x_test, y_test):\n",
    "\n",
    "    train_dataset,val_dataset, _ = load_data(x_train, y_train, x_val, y_val, x_test, y_test)\n",
    "\n",
    "    model = myLSTM(lstm_input_size=x_train.shape[2], hidden_size=config[\"hidden_size\"],\n",
    "                   fc1_outputsize=config[\"fc1_outputsize\"], num_layers=config[\"num_layers\"]).to(device)\n",
    "\n",
    "    loss_fn = nn.MSELoss()\n",
    "    optimizer = torch.optim.Adam(model.parameters(), lr=config[\"lr\"])\n",
    "\n",
    "\n",
    "    # To restore a checkpoint, use `session.get_checkpoint()`.\n",
    "    loaded_checkpoint = session.get_checkpoint()\n",
    "    if loaded_checkpoint:\n",
    "        with loaded_checkpoint.as_directory() as loaded_checkpoint_dir:\n",
    "            model_state, optimizer_state = torch.load(os.path.join(loaded_checkpoint_dir, \"checkpoint.pt\"))\n",
    "            model.load_state_dict(model_state)\n",
    "            optimizer.load_state_dict(optimizer_state)\n",
    "    \n",
    "\n",
    "\n",
    "    trainloader = torch.utils.data.DataLoader(\n",
    "        train_dataset,\n",
    "        batch_size=int(config[\"batch_size\"]),\n",
    "        shuffle=True,\n",
    "        drop_last=True,\n",
    "        num_workers=2)\n",
    "    valloader = torch.utils.data.DataLoader(\n",
    "        val_dataset,\n",
    "        batch_size=int(config[\"batch_size\"]),\n",
    "        shuffle=True,\n",
    "        drop_last=True,\n",
    "        num_workers=2)\n",
    "\n",
    "    train_losses=[]\n",
    "    val_losses=[]\n",
    "    #训练部分\n",
    "    for epoch in range(config[\"num_epochs\"]):\n",
    "        model.train()\n",
    "        epoch_steps = 0\n",
    "        train_loss = 0.0\n",
    "\n",
    "        for (x, y) in  trainloader:\n",
    "            if device.type == \"cuda\":\n",
    "                x = x.cuda()\n",
    "                y = y.cuda()\n",
    "            # Forward pass\n",
    "            output = model(x)\n",
    "            loss = loss_fn(output, y)\n",
    "            # Backward pass and optimization\n",
    "            optimizer.zero_grad()\n",
    "            loss.backward()\n",
    "            optimizer.step()\n",
    "            # Accumulate the training loss\n",
    "            train_loss += loss.item()\n",
    "            epoch_steps += 1\n",
    "\n",
    "        # print(train_loss)\n",
    "        train_losses.append(train_loss)\n",
    "\n",
    "\n",
    "        val_steps=0\n",
    "        val_loss_=0.0\n",
    "        model.eval()\n",
    "        for (x, y)in valloader:\n",
    "            if device.type == \"cuda\":\n",
    "                x = x.cuda()\n",
    "                y = y.cuda()\n",
    "            output = model(x)\n",
    "            loss_ = loss_fn(output, y)\n",
    "\n",
    "\n",
    "            # Accumulate the validation loss\n",
    "            val_loss_+= loss_.item()\n",
    "            val_steps += 1\n",
    "        # Append the epoch metrics to the lists\n",
    "        val_losses.append(val_loss_)\n",
    "\n",
    "        print(f'Epoch: {epoch}, Training loss: {train_loss:.4f}, Validation loss: {val_loss_:.4f}')\n",
    "        os.makedirs(\"my_model\", exist_ok=True)\n",
    "        torch.save(\n",
    "            (model.state_dict(), optimizer.state_dict()),\n",
    "            os.path.join(\"my_model\", \"checkpoint.pt\"),\n",
    "        )\n",
    "        checkpoint = Checkpoint.from_directory(\"my_model\")\n",
    "        session.report({\"loss\": (val_loss_ / val_steps)}, checkpoint=checkpoint)\n",
    "    print(\"Finished Training\")"
   ]
  },
  {
   "cell_type": "code",
   "execution_count": 102,
   "metadata": {},
   "outputs": [],
   "source": [
    "#可视化函数\n",
    "def plot(real,predictions):\n",
    "    plt.figure(figsize=(15,8),dpi=150)\n",
    "    plt.plot(real, label='Real',color = \"blue\")\n",
    "    plt.plot(predictions, label='Pred',color = \"red\")\n",
    "    plt.legend()\n",
    "    plt.show()"
   ]
  },
  {
   "cell_type": "code",
   "execution_count": 103,
   "metadata": {},
   "outputs": [],
   "source": [
    "def test_best_model(best_result, x_train, y_train, x_val, y_val, x_test, y_test):\n",
    "\n",
    "    _, _, test_dataset = load_data(x_train, y_train, x_val, y_val, x_test, y_test)\n",
    "    best_trained_model = myLSTM(lstm_input_size=x_train.shape[2], hidden_size=best_result.config[\"hidden_size\"],\n",
    "                   fc1_outputsize=best_result.config[\"fc1_outputsize\"], num_layers=best_result.config[\"num_layers\"])\n",
    "    # device = \"cuda:0\" if torch.cuda.is_available() else \"cpu\"\n",
    "    best_trained_model.to(device)\n",
    "\n",
    "    checkpoint_path = os.path.join(best_result.checkpoint.to_directory(), \"checkpoint.pt\")\n",
    "    model_state, optimizer_state = torch.load(checkpoint_path)\n",
    "    best_trained_model.load_state_dict(model_state)\n",
    "\n",
    "    # testloader = torch.utils.data.DataLoader(\n",
    "    #     test_dataset, batch_size=1, shuffle=False,drop_last=True, num_workers=2)\n",
    "\n",
    "    best_trained_model.eval()\n",
    "    predictions = []\n",
    "    with torch.no_grad():\n",
    "        for (x, y) in test_dataset:\n",
    "            if device.type == \"cuda\":\n",
    "                x = x.cuda()\n",
    "                y = y.cuda()\n",
    "            outputs =  best_trained_model(x.reshape((1,x_train.shape[1],x_train.shape[2])))\n",
    "            predictions.append(outputs.item())\n",
    "\n",
    "\n",
    "    return predictions,best_trained_model"
   ]
  },
  {
   "cell_type": "code",
   "execution_count": null,
   "metadata": {},
   "outputs": [],
   "source": [
    "    "
   ]
  },
  {
   "cell_type": "code",
   "execution_count": 104,
   "metadata": {},
   "outputs": [],
   "source": [
    "config = {\n",
    "    \"hidden_size\": tune.sample_from(lambda _: 2**np.random.randint(2, 9)),\n",
    "    \"fc1_outputsize\": tune.sample_from(lambda _: 2**np.random.randint(2, 9)),\n",
    "    \"num_layers\": tune.choice([1,2]),\n",
    "    \"lr\": tune.loguniform(1e-4, 1e-1),\n",
    "    \"batch_size\": tune.choice([16,32,64]),\n",
    "    \"num_epochs\":tune.choice([20,35,50]),\n",
    "}"
   ]
  },
  {
   "cell_type": "code",
   "execution_count": 105,
   "metadata": {},
   "outputs": [],
   "source": [
    "def main(config,\n",
    "         x_train, y_train, x_val, y_val, x_test, y_test,\n",
    "         num_samples=50,max_num_epochs=50,gpus_per_trial=0,\n",
    "         ):\n",
    "    \n",
    "    scheduler=ASHAScheduler(\n",
    "         max_t=max_num_epochs,\n",
    "        grace_period=1,\n",
    "        reduction_factor=2)\n",
    "\n",
    "    tuner = tune.Tuner(\n",
    "        tune.with_resources(\n",
    "            tune.with_parameters(train_cifar,  x_train=x_train, y_train=y_train, x_val=x_val, y_val=y_val, x_test=x_test, y_test=y_test),\n",
    "            resources={\"cpu\": 2, \"gpu\":gpus_per_trial}\n",
    "        ),\n",
    "        tune_config=tune.TuneConfig(\n",
    "            metric=\"loss\",\n",
    "            mode=\"min\",\n",
    "            scheduler=scheduler,\n",
    "            num_samples=num_samples,\n",
    "        ),\n",
    "        param_space=config,\n",
    "    )\n",
    "    results = tuner.fit()\n",
    "\n",
    "    print(\"-----------------------------------------------------------\")\n",
    "   # 找出最佳实验\n",
    "    best_result = results.get_best_result(\"loss\", \"min\")\n",
    "\n",
    "    print(\"Best trial config: {}\".format(best_result.config))\n",
    "    print(\"Best trial final validation loss: {}\".format(\n",
    "        best_result.metrics[\"loss\"]))\n",
    "    predictions, best_model=test_best_model(best_result, x_train, y_train, x_val, y_val, x_test, y_test)\n",
    "\n",
    "    return predictions,best_model\n"
   ]
  },
  {
   "cell_type": "code",
   "execution_count": null,
   "metadata": {},
   "outputs": [],
   "source": []
  },
  {
   "cell_type": "code",
   "execution_count": 106,
   "metadata": {},
   "outputs": [
    {
     "data": {
      "text/html": [],
      "text/plain": [
       "<IPython.core.display.HTML object>"
      ]
     },
     "metadata": {},
     "output_type": "display_data"
    },
    {
     "name": "stderr",
     "output_type": "stream",
     "text": [
      "\u001b[2m\u001b[36m(train_cifar pid=39028)\u001b[0m c:\\Users\\16963\\.conda\\envs\\pytorch\\lib\\site-packages\\torch\\nn\\modules\\loss.py:530: UserWarning: Using a target size (torch.Size([16])) that is different to the input size (torch.Size([16, 1])). This will likely lead to incorrect results due to broadcasting. Please ensure they have the same size.\n",
      "\u001b[2m\u001b[36m(train_cifar pid=39028)\u001b[0m   return F.mse_loss(input, target, reduction=self.reduction)\n"
     ]
    },
    {
     "data": {
      "text/html": [
       "<div class=\"trialProgress\">\n",
       "  <h3>Trial Progress</h3>\n",
       "  <table>\n",
       "<thead>\n",
       "<tr><th>Trial name             </th><th>date               </th><th>done  </th><th>episodes_total  </th><th>experiment_id                   </th><th>hostname       </th><th style=\"text-align: right;\">  iterations_since_restore</th><th style=\"text-align: right;\">    loss</th><th>node_ip  </th><th style=\"text-align: right;\">  pid</th><th>should_checkpoint  </th><th style=\"text-align: right;\">  time_since_restore</th><th style=\"text-align: right;\">  time_this_iter_s</th><th style=\"text-align: right;\">  time_total_s</th><th style=\"text-align: right;\">  timestamp</th><th style=\"text-align: right;\">  timesteps_since_restore</th><th>timesteps_total  </th><th style=\"text-align: right;\">  training_iteration</th><th>trial_id   </th><th style=\"text-align: right;\">  warmup_time</th></tr>\n",
       "</thead>\n",
       "<tbody>\n",
       "<tr><td>train_cifar_7a7d3_00000</td><td>2023-11-12_13-10-29</td><td>True  </td><td>                </td><td>91a2b6187c6e428aa040a14f34bcebdd</td><td>LAPTOP-4OM1CA5D</td><td style=\"text-align: right;\">                        20</td><td style=\"text-align: right;\">0.154787</td><td>127.0.0.1</td><td style=\"text-align: right;\">39028</td><td>True               </td><td style=\"text-align: right;\">           132.827  </td><td style=\"text-align: right;\">           7.1199 </td><td style=\"text-align: right;\">     132.827  </td><td style=\"text-align: right;\"> 1699765829</td><td style=\"text-align: right;\">                        0</td><td>                 </td><td style=\"text-align: right;\">                  20</td><td>7a7d3_00000</td><td style=\"text-align: right;\">   0.00399971</td></tr>\n",
       "<tr><td>train_cifar_7a7d3_00001</td><td>2023-11-12_13-08-42</td><td>True  </td><td>                </td><td>8d0308ff56ef4a129343f40e7303c092</td><td>LAPTOP-4OM1CA5D</td><td style=\"text-align: right;\">                         2</td><td style=\"text-align: right;\">0.162369</td><td>127.0.0.1</td><td style=\"text-align: right;\">21804</td><td>True               </td><td style=\"text-align: right;\">            21.0371 </td><td style=\"text-align: right;\">          10.8659 </td><td style=\"text-align: right;\">      21.0371 </td><td style=\"text-align: right;\"> 1699765722</td><td style=\"text-align: right;\">                        0</td><td>                 </td><td style=\"text-align: right;\">                   2</td><td>7a7d3_00001</td><td style=\"text-align: right;\">   0.00800061</td></tr>\n",
       "<tr><td>train_cifar_7a7d3_00002</td><td>2023-11-12_13-08-41</td><td>True  </td><td>                </td><td>30a1232a4de94f65b0861b2a5fb92f02</td><td>LAPTOP-4OM1CA5D</td><td style=\"text-align: right;\">                         2</td><td style=\"text-align: right;\">0.164993</td><td>127.0.0.1</td><td style=\"text-align: right;\"> 5140</td><td>True               </td><td style=\"text-align: right;\">            19.5097 </td><td style=\"text-align: right;\">          10.8511 </td><td style=\"text-align: right;\">      19.5097 </td><td style=\"text-align: right;\"> 1699765721</td><td style=\"text-align: right;\">                        0</td><td>                 </td><td style=\"text-align: right;\">                   2</td><td>7a7d3_00002</td><td style=\"text-align: right;\">   0.0773027 </td></tr>\n",
       "<tr><td>train_cifar_7a7d3_00003</td><td>2023-11-12_13-08-33</td><td>True  </td><td>                </td><td>be7e9435f4d846a0b0d19697da1cdd2c</td><td>LAPTOP-4OM1CA5D</td><td style=\"text-align: right;\">                         2</td><td style=\"text-align: right;\">0.160639</td><td>127.0.0.1</td><td style=\"text-align: right;\">48280</td><td>True               </td><td style=\"text-align: right;\">            12.3018 </td><td style=\"text-align: right;\">           5.77343</td><td style=\"text-align: right;\">      12.3018 </td><td style=\"text-align: right;\"> 1699765713</td><td style=\"text-align: right;\">                        0</td><td>                 </td><td style=\"text-align: right;\">                   2</td><td>7a7d3_00003</td><td style=\"text-align: right;\">   0.00698972</td></tr>\n",
       "<tr><td>train_cifar_7a7d3_00004</td><td>2023-11-12_13-08-39</td><td>True  </td><td>                </td><td>be7e9435f4d846a0b0d19697da1cdd2c</td><td>LAPTOP-4OM1CA5D</td><td style=\"text-align: right;\">                         1</td><td style=\"text-align: right;\">0.18373 </td><td>127.0.0.1</td><td style=\"text-align: right;\">48280</td><td>True               </td><td style=\"text-align: right;\">             5.56119</td><td style=\"text-align: right;\">           5.56119</td><td style=\"text-align: right;\">       5.56119</td><td style=\"text-align: right;\"> 1699765719</td><td style=\"text-align: right;\">                        0</td><td>                 </td><td style=\"text-align: right;\">                   1</td><td>7a7d3_00004</td><td style=\"text-align: right;\">   0.00698972</td></tr>\n",
       "<tr><td>train_cifar_7a7d3_00005</td><td>2023-11-12_13-08-45</td><td>True  </td><td>                </td><td>be7e9435f4d846a0b0d19697da1cdd2c</td><td>LAPTOP-4OM1CA5D</td><td style=\"text-align: right;\">                         1</td><td style=\"text-align: right;\">0.143362</td><td>127.0.0.1</td><td style=\"text-align: right;\">48280</td><td>True               </td><td style=\"text-align: right;\">             5.95917</td><td style=\"text-align: right;\">           5.95917</td><td style=\"text-align: right;\">       5.95917</td><td style=\"text-align: right;\"> 1699765725</td><td style=\"text-align: right;\">                        0</td><td>                 </td><td style=\"text-align: right;\">                   1</td><td>7a7d3_00005</td><td style=\"text-align: right;\">   0.00698972</td></tr>\n",
       "<tr><td>train_cifar_7a7d3_00006</td><td>2023-11-12_13-08-48</td><td>True  </td><td>                </td><td>30a1232a4de94f65b0861b2a5fb92f02</td><td>LAPTOP-4OM1CA5D</td><td style=\"text-align: right;\">                         1</td><td style=\"text-align: right;\">0.144662</td><td>127.0.0.1</td><td style=\"text-align: right;\"> 5140</td><td>True               </td><td style=\"text-align: right;\">             7.02199</td><td style=\"text-align: right;\">           7.02199</td><td style=\"text-align: right;\">       7.02199</td><td style=\"text-align: right;\"> 1699765728</td><td style=\"text-align: right;\">                        0</td><td>                 </td><td style=\"text-align: right;\">                   1</td><td>7a7d3_00006</td><td style=\"text-align: right;\">   0.0773027 </td></tr>\n",
       "<tr><td>train_cifar_7a7d3_00007</td><td>2023-11-12_13-08-49</td><td>True  </td><td>                </td><td>8d0308ff56ef4a129343f40e7303c092</td><td>LAPTOP-4OM1CA5D</td><td style=\"text-align: right;\">                         1</td><td style=\"text-align: right;\">0.151534</td><td>127.0.0.1</td><td style=\"text-align: right;\">21804</td><td>True               </td><td style=\"text-align: right;\">             6.8365 </td><td style=\"text-align: right;\">           6.8365 </td><td style=\"text-align: right;\">       6.8365 </td><td style=\"text-align: right;\"> 1699765729</td><td style=\"text-align: right;\">                        0</td><td>                 </td><td style=\"text-align: right;\">                   1</td><td>7a7d3_00007</td><td style=\"text-align: right;\">   0.00800061</td></tr>\n",
       "<tr><td>train_cifar_7a7d3_00008</td><td>2023-11-12_13-16-15</td><td>True  </td><td>                </td><td>be7e9435f4d846a0b0d19697da1cdd2c</td><td>LAPTOP-4OM1CA5D</td><td style=\"text-align: right;\">                        50</td><td style=\"text-align: right;\">0.157374</td><td>127.0.0.1</td><td style=\"text-align: right;\">48280</td><td>True               </td><td style=\"text-align: right;\">           449.577  </td><td style=\"text-align: right;\">           5.52919</td><td style=\"text-align: right;\">     449.577  </td><td style=\"text-align: right;\"> 1699766175</td><td style=\"text-align: right;\">                        0</td><td>                 </td><td style=\"text-align: right;\">                  50</td><td>7a7d3_00008</td><td style=\"text-align: right;\">   0.00698972</td></tr>\n",
       "<tr><td>train_cifar_7a7d3_00009</td><td>2023-11-12_13-08-53</td><td>True  </td><td>                </td><td>30a1232a4de94f65b0861b2a5fb92f02</td><td>LAPTOP-4OM1CA5D</td><td style=\"text-align: right;\">                         1</td><td style=\"text-align: right;\">0.558979</td><td>127.0.0.1</td><td style=\"text-align: right;\"> 5140</td><td>True               </td><td style=\"text-align: right;\">             5.31246</td><td style=\"text-align: right;\">           5.31246</td><td style=\"text-align: right;\">       5.31246</td><td style=\"text-align: right;\"> 1699765733</td><td style=\"text-align: right;\">                        0</td><td>                 </td><td style=\"text-align: right;\">                   1</td><td>7a7d3_00009</td><td style=\"text-align: right;\">   0.0773027 </td></tr>\n",
       "<tr><td>train_cifar_7a7d3_00010</td><td>2023-11-12_13-08-55</td><td>True  </td><td>                </td><td>8d0308ff56ef4a129343f40e7303c092</td><td>LAPTOP-4OM1CA5D</td><td style=\"text-align: right;\">                         1</td><td style=\"text-align: right;\">0.186216</td><td>127.0.0.1</td><td style=\"text-align: right;\">21804</td><td>True               </td><td style=\"text-align: right;\">             5.97013</td><td style=\"text-align: right;\">           5.97013</td><td style=\"text-align: right;\">       5.97013</td><td style=\"text-align: right;\"> 1699765735</td><td style=\"text-align: right;\">                        0</td><td>                 </td><td style=\"text-align: right;\">                   1</td><td>7a7d3_00010</td><td style=\"text-align: right;\">   0.00800061</td></tr>\n",
       "<tr><td>train_cifar_7a7d3_00011</td><td>2023-11-12_13-09-00</td><td>True  </td><td>                </td><td>30a1232a4de94f65b0861b2a5fb92f02</td><td>LAPTOP-4OM1CA5D</td><td style=\"text-align: right;\">                         1</td><td style=\"text-align: right;\">0.175314</td><td>127.0.0.1</td><td style=\"text-align: right;\"> 5140</td><td>True               </td><td style=\"text-align: right;\">             6.28787</td><td style=\"text-align: right;\">           6.28787</td><td style=\"text-align: right;\">       6.28787</td><td style=\"text-align: right;\"> 1699765740</td><td style=\"text-align: right;\">                        0</td><td>                 </td><td style=\"text-align: right;\">                   1</td><td>7a7d3_00011</td><td style=\"text-align: right;\">   0.0773027 </td></tr>\n",
       "<tr><td>train_cifar_7a7d3_00012</td><td>2023-11-12_13-09-02</td><td>True  </td><td>                </td><td>8d0308ff56ef4a129343f40e7303c092</td><td>LAPTOP-4OM1CA5D</td><td style=\"text-align: right;\">                         1</td><td style=\"text-align: right;\">0.205167</td><td>127.0.0.1</td><td style=\"text-align: right;\">21804</td><td>True               </td><td style=\"text-align: right;\">             6.82505</td><td style=\"text-align: right;\">           6.82505</td><td style=\"text-align: right;\">       6.82505</td><td style=\"text-align: right;\"> 1699765742</td><td style=\"text-align: right;\">                        0</td><td>                 </td><td style=\"text-align: right;\">                   1</td><td>7a7d3_00012</td><td style=\"text-align: right;\">   0.00800061</td></tr>\n",
       "<tr><td>train_cifar_7a7d3_00013</td><td>2023-11-12_13-09-08</td><td>True  </td><td>                </td><td>30a1232a4de94f65b0861b2a5fb92f02</td><td>LAPTOP-4OM1CA5D</td><td style=\"text-align: right;\">                         1</td><td style=\"text-align: right;\">0.188931</td><td>127.0.0.1</td><td style=\"text-align: right;\"> 5140</td><td>True               </td><td style=\"text-align: right;\">             8.17355</td><td style=\"text-align: right;\">           8.17355</td><td style=\"text-align: right;\">       8.17355</td><td style=\"text-align: right;\"> 1699765748</td><td style=\"text-align: right;\">                        0</td><td>                 </td><td style=\"text-align: right;\">                   1</td><td>7a7d3_00013</td><td style=\"text-align: right;\">   0.0773027 </td></tr>\n",
       "<tr><td>train_cifar_7a7d3_00014</td><td>2023-11-12_13-09-27</td><td>True  </td><td>                </td><td>8d0308ff56ef4a129343f40e7303c092</td><td>LAPTOP-4OM1CA5D</td><td style=\"text-align: right;\">                         4</td><td style=\"text-align: right;\">0.184235</td><td>127.0.0.1</td><td style=\"text-align: right;\">21804</td><td>True               </td><td style=\"text-align: right;\">            25.2617 </td><td style=\"text-align: right;\">           7.13776</td><td style=\"text-align: right;\">      25.2617 </td><td style=\"text-align: right;\"> 1699765767</td><td style=\"text-align: right;\">                        0</td><td>                 </td><td style=\"text-align: right;\">                   4</td><td>7a7d3_00014</td><td style=\"text-align: right;\">   0.00800061</td></tr>\n",
       "<tr><td>train_cifar_7a7d3_00015</td><td>2023-11-12_13-09-14</td><td>True  </td><td>                </td><td>30a1232a4de94f65b0861b2a5fb92f02</td><td>LAPTOP-4OM1CA5D</td><td style=\"text-align: right;\">                         1</td><td style=\"text-align: right;\">0.156886</td><td>127.0.0.1</td><td style=\"text-align: right;\"> 5140</td><td>True               </td><td style=\"text-align: right;\">             6.23194</td><td style=\"text-align: right;\">           6.23194</td><td style=\"text-align: right;\">       6.23194</td><td style=\"text-align: right;\"> 1699765754</td><td style=\"text-align: right;\">                        0</td><td>                 </td><td style=\"text-align: right;\">                   1</td><td>7a7d3_00015</td><td style=\"text-align: right;\">   0.0773027 </td></tr>\n",
       "<tr><td>train_cifar_7a7d3_00016</td><td>2023-11-12_13-12-11</td><td>True  </td><td>                </td><td>30a1232a4de94f65b0861b2a5fb92f02</td><td>LAPTOP-4OM1CA5D</td><td style=\"text-align: right;\">                        16</td><td style=\"text-align: right;\">0.159877</td><td>127.0.0.1</td><td style=\"text-align: right;\"> 5140</td><td>True               </td><td style=\"text-align: right;\">           176.398  </td><td style=\"text-align: right;\">          10.1987 </td><td style=\"text-align: right;\">     176.398  </td><td style=\"text-align: right;\"> 1699765931</td><td style=\"text-align: right;\">                        0</td><td>                 </td><td style=\"text-align: right;\">                  16</td><td>7a7d3_00016</td><td style=\"text-align: right;\">   0.0773027 </td></tr>\n",
       "<tr><td>train_cifar_7a7d3_00017</td><td>2023-11-12_13-09-33</td><td>True  </td><td>                </td><td>8d0308ff56ef4a129343f40e7303c092</td><td>LAPTOP-4OM1CA5D</td><td style=\"text-align: right;\">                         1</td><td style=\"text-align: right;\">0.161555</td><td>127.0.0.1</td><td style=\"text-align: right;\">21804</td><td>True               </td><td style=\"text-align: right;\">             5.70947</td><td style=\"text-align: right;\">           5.70947</td><td style=\"text-align: right;\">       5.70947</td><td style=\"text-align: right;\"> 1699765773</td><td style=\"text-align: right;\">                        0</td><td>                 </td><td style=\"text-align: right;\">                   1</td><td>7a7d3_00017</td><td style=\"text-align: right;\">   0.00800061</td></tr>\n",
       "<tr><td>train_cifar_7a7d3_00018</td><td>2023-11-12_13-09-42</td><td>True  </td><td>                </td><td>8d0308ff56ef4a129343f40e7303c092</td><td>LAPTOP-4OM1CA5D</td><td style=\"text-align: right;\">                         1</td><td style=\"text-align: right;\">0.160291</td><td>127.0.0.1</td><td style=\"text-align: right;\">21804</td><td>True               </td><td style=\"text-align: right;\">             8.7182 </td><td style=\"text-align: right;\">           8.7182 </td><td style=\"text-align: right;\">       8.7182 </td><td style=\"text-align: right;\"> 1699765782</td><td style=\"text-align: right;\">                        0</td><td>                 </td><td style=\"text-align: right;\">                   1</td><td>7a7d3_00018</td><td style=\"text-align: right;\">   0.00800061</td></tr>\n",
       "<tr><td>train_cifar_7a7d3_00019</td><td>2023-11-12_13-09-48</td><td>True  </td><td>                </td><td>8d0308ff56ef4a129343f40e7303c092</td><td>LAPTOP-4OM1CA5D</td><td style=\"text-align: right;\">                         1</td><td style=\"text-align: right;\">0.168861</td><td>127.0.0.1</td><td style=\"text-align: right;\">21804</td><td>True               </td><td style=\"text-align: right;\">             6.38414</td><td style=\"text-align: right;\">           6.38414</td><td style=\"text-align: right;\">       6.38414</td><td style=\"text-align: right;\"> 1699765788</td><td style=\"text-align: right;\">                        0</td><td>                 </td><td style=\"text-align: right;\">                   1</td><td>7a7d3_00019</td><td style=\"text-align: right;\">   0.00800061</td></tr>\n",
       "<tr><td>train_cifar_7a7d3_00020</td><td>2023-11-12_13-10-46</td><td>True  </td><td>                </td><td>8d0308ff56ef4a129343f40e7303c092</td><td>LAPTOP-4OM1CA5D</td><td style=\"text-align: right;\">                         8</td><td style=\"text-align: right;\">0.183985</td><td>127.0.0.1</td><td style=\"text-align: right;\">21804</td><td>True               </td><td style=\"text-align: right;\">            57.7489 </td><td style=\"text-align: right;\">           7.5647 </td><td style=\"text-align: right;\">      57.7489 </td><td style=\"text-align: right;\"> 1699765846</td><td style=\"text-align: right;\">                        0</td><td>                 </td><td style=\"text-align: right;\">                   8</td><td>7a7d3_00020</td><td style=\"text-align: right;\">   0.00800061</td></tr>\n",
       "<tr><td>train_cifar_7a7d3_00021</td><td>2023-11-12_13-10-55</td><td>True  </td><td>                </td><td>91a2b6187c6e428aa040a14f34bcebdd</td><td>LAPTOP-4OM1CA5D</td><td style=\"text-align: right;\">                         2</td><td style=\"text-align: right;\">0.20643 </td><td>127.0.0.1</td><td style=\"text-align: right;\">39028</td><td>True               </td><td style=\"text-align: right;\">            25.4015 </td><td style=\"text-align: right;\">          12.8471 </td><td style=\"text-align: right;\">      25.4015 </td><td style=\"text-align: right;\"> 1699765855</td><td style=\"text-align: right;\">                        0</td><td>                 </td><td style=\"text-align: right;\">                   2</td><td>7a7d3_00021</td><td style=\"text-align: right;\">   0.00399971</td></tr>\n",
       "<tr><td>train_cifar_7a7d3_00022</td><td>2023-11-12_13-10-53</td><td>True  </td><td>                </td><td>8d0308ff56ef4a129343f40e7303c092</td><td>LAPTOP-4OM1CA5D</td><td style=\"text-align: right;\">                         1</td><td style=\"text-align: right;\">0.15255 </td><td>127.0.0.1</td><td style=\"text-align: right;\">21804</td><td>True               </td><td style=\"text-align: right;\">             6.51886</td><td style=\"text-align: right;\">           6.51886</td><td style=\"text-align: right;\">       6.51886</td><td style=\"text-align: right;\"> 1699765853</td><td style=\"text-align: right;\">                        0</td><td>                 </td><td style=\"text-align: right;\">                   1</td><td>7a7d3_00022</td><td style=\"text-align: right;\">   0.00800061</td></tr>\n",
       "<tr><td>train_cifar_7a7d3_00023</td><td>2023-11-12_13-10-58</td><td>True  </td><td>                </td><td>8d0308ff56ef4a129343f40e7303c092</td><td>LAPTOP-4OM1CA5D</td><td style=\"text-align: right;\">                         1</td><td style=\"text-align: right;\">0.426307</td><td>127.0.0.1</td><td style=\"text-align: right;\">21804</td><td>True               </td><td style=\"text-align: right;\">             5.78853</td><td style=\"text-align: right;\">           5.78853</td><td style=\"text-align: right;\">       5.78853</td><td style=\"text-align: right;\"> 1699765858</td><td style=\"text-align: right;\">                        0</td><td>                 </td><td style=\"text-align: right;\">                   1</td><td>7a7d3_00023</td><td style=\"text-align: right;\">   0.00800061</td></tr>\n",
       "<tr><td>train_cifar_7a7d3_00024</td><td>2023-11-12_13-11-00</td><td>True  </td><td>                </td><td>91a2b6187c6e428aa040a14f34bcebdd</td><td>LAPTOP-4OM1CA5D</td><td style=\"text-align: right;\">                         1</td><td style=\"text-align: right;\">0.192096</td><td>127.0.0.1</td><td style=\"text-align: right;\">39028</td><td>True               </td><td style=\"text-align: right;\">             5.64002</td><td style=\"text-align: right;\">           5.64002</td><td style=\"text-align: right;\">       5.64002</td><td style=\"text-align: right;\"> 1699765860</td><td style=\"text-align: right;\">                        0</td><td>                 </td><td style=\"text-align: right;\">                   1</td><td>7a7d3_00024</td><td style=\"text-align: right;\">   0.00399971</td></tr>\n",
       "<tr><td>train_cifar_7a7d3_00025</td><td>2023-11-12_13-11-06</td><td>True  </td><td>                </td><td>8d0308ff56ef4a129343f40e7303c092</td><td>LAPTOP-4OM1CA5D</td><td style=\"text-align: right;\">                         1</td><td style=\"text-align: right;\">0.208877</td><td>127.0.0.1</td><td style=\"text-align: right;\">21804</td><td>True               </td><td style=\"text-align: right;\">             7.27759</td><td style=\"text-align: right;\">           7.27759</td><td style=\"text-align: right;\">       7.27759</td><td style=\"text-align: right;\"> 1699765866</td><td style=\"text-align: right;\">                        0</td><td>                 </td><td style=\"text-align: right;\">                   1</td><td>7a7d3_00025</td><td style=\"text-align: right;\">   0.00800061</td></tr>\n",
       "<tr><td>train_cifar_7a7d3_00026</td><td>2023-11-12_13-11-06</td><td>True  </td><td>                </td><td>91a2b6187c6e428aa040a14f34bcebdd</td><td>LAPTOP-4OM1CA5D</td><td style=\"text-align: right;\">                         1</td><td style=\"text-align: right;\">0.309764</td><td>127.0.0.1</td><td style=\"text-align: right;\">39028</td><td>True               </td><td style=\"text-align: right;\">             5.29161</td><td style=\"text-align: right;\">           5.29161</td><td style=\"text-align: right;\">       5.29161</td><td style=\"text-align: right;\"> 1699765866</td><td style=\"text-align: right;\">                        0</td><td>                 </td><td style=\"text-align: right;\">                   1</td><td>7a7d3_00026</td><td style=\"text-align: right;\">   0.00399971</td></tr>\n",
       "<tr><td>train_cifar_7a7d3_00027</td><td>2023-11-12_13-11-12</td><td>True  </td><td>                </td><td>91a2b6187c6e428aa040a14f34bcebdd</td><td>LAPTOP-4OM1CA5D</td><td style=\"text-align: right;\">                         1</td><td style=\"text-align: right;\">0.189094</td><td>127.0.0.1</td><td style=\"text-align: right;\">39028</td><td>True               </td><td style=\"text-align: right;\">             6.39851</td><td style=\"text-align: right;\">           6.39851</td><td style=\"text-align: right;\">       6.39851</td><td style=\"text-align: right;\"> 1699765872</td><td style=\"text-align: right;\">                        0</td><td>                 </td><td style=\"text-align: right;\">                   1</td><td>7a7d3_00027</td><td style=\"text-align: right;\">   0.00399971</td></tr>\n",
       "<tr><td>train_cifar_7a7d3_00028</td><td>2023-11-12_13-11-26</td><td>True  </td><td>                </td><td>8d0308ff56ef4a129343f40e7303c092</td><td>LAPTOP-4OM1CA5D</td><td style=\"text-align: right;\">                         4</td><td style=\"text-align: right;\">0.17474 </td><td>127.0.0.1</td><td style=\"text-align: right;\">21804</td><td>True               </td><td style=\"text-align: right;\">            20.6111 </td><td style=\"text-align: right;\">           4.71413</td><td style=\"text-align: right;\">      20.6111 </td><td style=\"text-align: right;\"> 1699765886</td><td style=\"text-align: right;\">                        0</td><td>                 </td><td style=\"text-align: right;\">                   4</td><td>7a7d3_00028</td><td style=\"text-align: right;\">   0.00800061</td></tr>\n",
       "<tr><td>train_cifar_7a7d3_00029</td><td>2023-11-12_13-11-17</td><td>True  </td><td>                </td><td>91a2b6187c6e428aa040a14f34bcebdd</td><td>LAPTOP-4OM1CA5D</td><td style=\"text-align: right;\">                         1</td><td style=\"text-align: right;\">0.240183</td><td>127.0.0.1</td><td style=\"text-align: right;\">39028</td><td>True               </td><td style=\"text-align: right;\">             5.25006</td><td style=\"text-align: right;\">           5.25006</td><td style=\"text-align: right;\">       5.25006</td><td style=\"text-align: right;\"> 1699765877</td><td style=\"text-align: right;\">                        0</td><td>                 </td><td style=\"text-align: right;\">                   1</td><td>7a7d3_00029</td><td style=\"text-align: right;\">   0.00399971</td></tr>\n",
       "<tr><td>train_cifar_7a7d3_00030</td><td>2023-11-12_13-11-34</td><td>True  </td><td>                </td><td>91a2b6187c6e428aa040a14f34bcebdd</td><td>LAPTOP-4OM1CA5D</td><td style=\"text-align: right;\">                         1</td><td style=\"text-align: right;\">0.899375</td><td>127.0.0.1</td><td style=\"text-align: right;\">39028</td><td>True               </td><td style=\"text-align: right;\">            16.1191 </td><td style=\"text-align: right;\">          16.1191 </td><td style=\"text-align: right;\">      16.1191 </td><td style=\"text-align: right;\"> 1699765894</td><td style=\"text-align: right;\">                        0</td><td>                 </td><td style=\"text-align: right;\">                   1</td><td>7a7d3_00030</td><td style=\"text-align: right;\">   0.00399971</td></tr>\n",
       "<tr><td>train_cifar_7a7d3_00031</td><td>2023-11-12_13-11-32</td><td>True  </td><td>                </td><td>8d0308ff56ef4a129343f40e7303c092</td><td>LAPTOP-4OM1CA5D</td><td style=\"text-align: right;\">                         1</td><td style=\"text-align: right;\">0.16463 </td><td>127.0.0.1</td><td style=\"text-align: right;\">21804</td><td>True               </td><td style=\"text-align: right;\">             5.93208</td><td style=\"text-align: right;\">           5.93208</td><td style=\"text-align: right;\">       5.93208</td><td style=\"text-align: right;\"> 1699765892</td><td style=\"text-align: right;\">                        0</td><td>                 </td><td style=\"text-align: right;\">                   1</td><td>7a7d3_00031</td><td style=\"text-align: right;\">   0.00800061</td></tr>\n",
       "<tr><td>train_cifar_7a7d3_00032</td><td>2023-11-12_13-11-43</td><td>True  </td><td>                </td><td>8d0308ff56ef4a129343f40e7303c092</td><td>LAPTOP-4OM1CA5D</td><td style=\"text-align: right;\">                         2</td><td style=\"text-align: right;\">0.163442</td><td>127.0.0.1</td><td style=\"text-align: right;\">21804</td><td>True               </td><td style=\"text-align: right;\">            10.6855 </td><td style=\"text-align: right;\">           5.52007</td><td style=\"text-align: right;\">      10.6855 </td><td style=\"text-align: right;\"> 1699765903</td><td style=\"text-align: right;\">                        0</td><td>                 </td><td style=\"text-align: right;\">                   2</td><td>7a7d3_00032</td><td style=\"text-align: right;\">   0.00800061</td></tr>\n",
       "<tr><td>train_cifar_7a7d3_00033</td><td>2023-11-12_13-11-39</td><td>True  </td><td>                </td><td>91a2b6187c6e428aa040a14f34bcebdd</td><td>LAPTOP-4OM1CA5D</td><td style=\"text-align: right;\">                         1</td><td style=\"text-align: right;\">0.205837</td><td>127.0.0.1</td><td style=\"text-align: right;\">39028</td><td>True               </td><td style=\"text-align: right;\">             5.47945</td><td style=\"text-align: right;\">           5.47945</td><td style=\"text-align: right;\">       5.47945</td><td style=\"text-align: right;\"> 1699765899</td><td style=\"text-align: right;\">                        0</td><td>                 </td><td style=\"text-align: right;\">                   1</td><td>7a7d3_00033</td><td style=\"text-align: right;\">   0.00399971</td></tr>\n",
       "<tr><td>train_cifar_7a7d3_00034</td><td>2023-11-12_13-11-53</td><td>True  </td><td>                </td><td>91a2b6187c6e428aa040a14f34bcebdd</td><td>LAPTOP-4OM1CA5D</td><td style=\"text-align: right;\">                         2</td><td style=\"text-align: right;\">0.185808</td><td>127.0.0.1</td><td style=\"text-align: right;\">39028</td><td>True               </td><td style=\"text-align: right;\">            14.2442 </td><td style=\"text-align: right;\">           7.39174</td><td style=\"text-align: right;\">      14.2442 </td><td style=\"text-align: right;\"> 1699765913</td><td style=\"text-align: right;\">                        0</td><td>                 </td><td style=\"text-align: right;\">                   2</td><td>7a7d3_00034</td><td style=\"text-align: right;\">   0.00399971</td></tr>\n",
       "<tr><td>train_cifar_7a7d3_00035</td><td>2023-11-12_13-11-49</td><td>True  </td><td>                </td><td>8d0308ff56ef4a129343f40e7303c092</td><td>LAPTOP-4OM1CA5D</td><td style=\"text-align: right;\">                         1</td><td style=\"text-align: right;\">0.164467</td><td>127.0.0.1</td><td style=\"text-align: right;\">21804</td><td>True               </td><td style=\"text-align: right;\">             5.82153</td><td style=\"text-align: right;\">           5.82153</td><td style=\"text-align: right;\">       5.82153</td><td style=\"text-align: right;\"> 1699765909</td><td style=\"text-align: right;\">                        0</td><td>                 </td><td style=\"text-align: right;\">                   1</td><td>7a7d3_00035</td><td style=\"text-align: right;\">   0.00800061</td></tr>\n",
       "<tr><td>train_cifar_7a7d3_00036</td><td>2023-11-12_13-11-55</td><td>True  </td><td>                </td><td>8d0308ff56ef4a129343f40e7303c092</td><td>LAPTOP-4OM1CA5D</td><td style=\"text-align: right;\">                         1</td><td style=\"text-align: right;\">0.166404</td><td>127.0.0.1</td><td style=\"text-align: right;\">21804</td><td>True               </td><td style=\"text-align: right;\">             5.92276</td><td style=\"text-align: right;\">           5.92276</td><td style=\"text-align: right;\">       5.92276</td><td style=\"text-align: right;\"> 1699765915</td><td style=\"text-align: right;\">                        0</td><td>                 </td><td style=\"text-align: right;\">                   1</td><td>7a7d3_00036</td><td style=\"text-align: right;\">   0.00800061</td></tr>\n",
       "<tr><td>train_cifar_7a7d3_00037</td><td>2023-11-12_13-12-15</td><td>True  </td><td>                </td><td>91a2b6187c6e428aa040a14f34bcebdd</td><td>LAPTOP-4OM1CA5D</td><td style=\"text-align: right;\">                         4</td><td style=\"text-align: right;\">0.175563</td><td>127.0.0.1</td><td style=\"text-align: right;\">39028</td><td>True               </td><td style=\"text-align: right;\">            21.8413 </td><td style=\"text-align: right;\">           5.84827</td><td style=\"text-align: right;\">      21.8413 </td><td style=\"text-align: right;\"> 1699765935</td><td style=\"text-align: right;\">                        0</td><td>                 </td><td style=\"text-align: right;\">                   4</td><td>7a7d3_00037</td><td style=\"text-align: right;\">   0.00399971</td></tr>\n",
       "<tr><td>train_cifar_7a7d3_00038</td><td>2023-11-12_13-12-01</td><td>True  </td><td>                </td><td>8d0308ff56ef4a129343f40e7303c092</td><td>LAPTOP-4OM1CA5D</td><td style=\"text-align: right;\">                         1</td><td style=\"text-align: right;\">0.423088</td><td>127.0.0.1</td><td style=\"text-align: right;\">21804</td><td>True               </td><td style=\"text-align: right;\">             6.03628</td><td style=\"text-align: right;\">           6.03628</td><td style=\"text-align: right;\">       6.03628</td><td style=\"text-align: right;\"> 1699765921</td><td style=\"text-align: right;\">                        0</td><td>                 </td><td style=\"text-align: right;\">                   1</td><td>7a7d3_00038</td><td style=\"text-align: right;\">   0.00800061</td></tr>\n",
       "<tr><td>train_cifar_7a7d3_00039</td><td>2023-11-12_13-12-08</td><td>True  </td><td>                </td><td>8d0308ff56ef4a129343f40e7303c092</td><td>LAPTOP-4OM1CA5D</td><td style=\"text-align: right;\">                         1</td><td style=\"text-align: right;\">0.165493</td><td>127.0.0.1</td><td style=\"text-align: right;\">21804</td><td>True               </td><td style=\"text-align: right;\">             6.68032</td><td style=\"text-align: right;\">           6.68032</td><td style=\"text-align: right;\">       6.68032</td><td style=\"text-align: right;\"> 1699765928</td><td style=\"text-align: right;\">                        0</td><td>                 </td><td style=\"text-align: right;\">                   1</td><td>7a7d3_00039</td><td style=\"text-align: right;\">   0.00800061</td></tr>\n",
       "<tr><td>train_cifar_7a7d3_00040</td><td>2023-11-12_13-12-15</td><td>True  </td><td>                </td><td>8d0308ff56ef4a129343f40e7303c092</td><td>LAPTOP-4OM1CA5D</td><td style=\"text-align: right;\">                         1</td><td style=\"text-align: right;\">0.169359</td><td>127.0.0.1</td><td style=\"text-align: right;\">21804</td><td>True               </td><td style=\"text-align: right;\">             6.87946</td><td style=\"text-align: right;\">           6.87946</td><td style=\"text-align: right;\">       6.87946</td><td style=\"text-align: right;\"> 1699765935</td><td style=\"text-align: right;\">                        0</td><td>                 </td><td style=\"text-align: right;\">                   1</td><td>7a7d3_00040</td><td style=\"text-align: right;\">   0.00800061</td></tr>\n",
       "<tr><td>train_cifar_7a7d3_00041</td><td>2023-11-12_13-13-53</td><td>True  </td><td>                </td><td>30a1232a4de94f65b0861b2a5fb92f02</td><td>LAPTOP-4OM1CA5D</td><td style=\"text-align: right;\">                        16</td><td style=\"text-align: right;\">0.157913</td><td>127.0.0.1</td><td style=\"text-align: right;\"> 5140</td><td>True               </td><td style=\"text-align: right;\">           102.108  </td><td style=\"text-align: right;\">           5.26241</td><td style=\"text-align: right;\">     102.108  </td><td style=\"text-align: right;\"> 1699766033</td><td style=\"text-align: right;\">                        0</td><td>                 </td><td style=\"text-align: right;\">                  16</td><td>7a7d3_00041</td><td style=\"text-align: right;\">   0.0773027 </td></tr>\n",
       "<tr><td>train_cifar_7a7d3_00042</td><td>2023-11-12_13-12-20</td><td>True  </td><td>                </td><td>8d0308ff56ef4a129343f40e7303c092</td><td>LAPTOP-4OM1CA5D</td><td style=\"text-align: right;\">                         1</td><td style=\"text-align: right;\">0.392672</td><td>127.0.0.1</td><td style=\"text-align: right;\">21804</td><td>True               </td><td style=\"text-align: right;\">             5.38149</td><td style=\"text-align: right;\">           5.38149</td><td style=\"text-align: right;\">       5.38149</td><td style=\"text-align: right;\"> 1699765940</td><td style=\"text-align: right;\">                        0</td><td>                 </td><td style=\"text-align: right;\">                   1</td><td>7a7d3_00042</td><td style=\"text-align: right;\">   0.00800061</td></tr>\n",
       "<tr><td>train_cifar_7a7d3_00043</td><td>2023-11-12_13-12-28</td><td>True  </td><td>                </td><td>91a2b6187c6e428aa040a14f34bcebdd</td><td>LAPTOP-4OM1CA5D</td><td style=\"text-align: right;\">                         2</td><td style=\"text-align: right;\">0.178159</td><td>127.0.0.1</td><td style=\"text-align: right;\">39028</td><td>True               </td><td style=\"text-align: right;\">            12.8113 </td><td style=\"text-align: right;\">           6.63455</td><td style=\"text-align: right;\">      12.8113 </td><td style=\"text-align: right;\"> 1699765948</td><td style=\"text-align: right;\">                        0</td><td>                 </td><td style=\"text-align: right;\">                   2</td><td>7a7d3_00043</td><td style=\"text-align: right;\">   0.00399971</td></tr>\n",
       "<tr><td>train_cifar_7a7d3_00044</td><td>2023-11-12_13-13-04</td><td>True  </td><td>                </td><td>8d0308ff56ef4a129343f40e7303c092</td><td>LAPTOP-4OM1CA5D</td><td style=\"text-align: right;\">                         8</td><td style=\"text-align: right;\">0.160981</td><td>127.0.0.1</td><td style=\"text-align: right;\">21804</td><td>True               </td><td style=\"text-align: right;\">            43.1496 </td><td style=\"text-align: right;\">           5.25195</td><td style=\"text-align: right;\">      43.1496 </td><td style=\"text-align: right;\"> 1699765984</td><td style=\"text-align: right;\">                        0</td><td>                 </td><td style=\"text-align: right;\">                   8</td><td>7a7d3_00044</td><td style=\"text-align: right;\">   0.00800061</td></tr>\n",
       "<tr><td>train_cifar_7a7d3_00045</td><td>2023-11-12_13-14-13</td><td>True  </td><td>                </td><td>91a2b6187c6e428aa040a14f34bcebdd</td><td>LAPTOP-4OM1CA5D</td><td style=\"text-align: right;\">                        16</td><td style=\"text-align: right;\">0.1808  </td><td>127.0.0.1</td><td style=\"text-align: right;\">39028</td><td>True               </td><td style=\"text-align: right;\">           105.04   </td><td style=\"text-align: right;\">           5.21931</td><td style=\"text-align: right;\">     105.04   </td><td style=\"text-align: right;\"> 1699766053</td><td style=\"text-align: right;\">                        0</td><td>                 </td><td style=\"text-align: right;\">                  16</td><td>7a7d3_00045</td><td style=\"text-align: right;\">   0.00399971</td></tr>\n",
       "<tr><td>train_cifar_7a7d3_00046</td><td>2023-11-12_13-13-19</td><td>True  </td><td>                </td><td>8d0308ff56ef4a129343f40e7303c092</td><td>LAPTOP-4OM1CA5D</td><td style=\"text-align: right;\">                         2</td><td style=\"text-align: right;\">0.202717</td><td>127.0.0.1</td><td style=\"text-align: right;\">21804</td><td>True               </td><td style=\"text-align: right;\">            15.7434 </td><td style=\"text-align: right;\">           7.58046</td><td style=\"text-align: right;\">      15.7434 </td><td style=\"text-align: right;\"> 1699765999</td><td style=\"text-align: right;\">                        0</td><td>                 </td><td style=\"text-align: right;\">                   2</td><td>7a7d3_00046</td><td style=\"text-align: right;\">   0.00800061</td></tr>\n",
       "<tr><td>train_cifar_7a7d3_00047</td><td>2023-11-12_13-13-27</td><td>True  </td><td>                </td><td>8d0308ff56ef4a129343f40e7303c092</td><td>LAPTOP-4OM1CA5D</td><td style=\"text-align: right;\">                         1</td><td style=\"text-align: right;\">0.167007</td><td>127.0.0.1</td><td style=\"text-align: right;\">21804</td><td>True               </td><td style=\"text-align: right;\">             7.78351</td><td style=\"text-align: right;\">           7.78351</td><td style=\"text-align: right;\">       7.78351</td><td style=\"text-align: right;\"> 1699766007</td><td style=\"text-align: right;\">                        0</td><td>                 </td><td style=\"text-align: right;\">                   1</td><td>7a7d3_00047</td><td style=\"text-align: right;\">   0.00800061</td></tr>\n",
       "<tr><td>train_cifar_7a7d3_00048</td><td>2023-11-12_13-13-33</td><td>True  </td><td>                </td><td>8d0308ff56ef4a129343f40e7303c092</td><td>LAPTOP-4OM1CA5D</td><td style=\"text-align: right;\">                         1</td><td style=\"text-align: right;\">0.484532</td><td>127.0.0.1</td><td style=\"text-align: right;\">21804</td><td>True               </td><td style=\"text-align: right;\">             5.5157 </td><td style=\"text-align: right;\">           5.5157 </td><td style=\"text-align: right;\">       5.5157 </td><td style=\"text-align: right;\"> 1699766013</td><td style=\"text-align: right;\">                        0</td><td>                 </td><td style=\"text-align: right;\">                   1</td><td>7a7d3_00048</td><td style=\"text-align: right;\">   0.00800061</td></tr>\n",
       "<tr><td>train_cifar_7a7d3_00049</td><td>2023-11-12_13-13-40</td><td>True  </td><td>                </td><td>8d0308ff56ef4a129343f40e7303c092</td><td>LAPTOP-4OM1CA5D</td><td style=\"text-align: right;\">                         1</td><td style=\"text-align: right;\">0.165627</td><td>127.0.0.1</td><td style=\"text-align: right;\">21804</td><td>True               </td><td style=\"text-align: right;\">             7.32011</td><td style=\"text-align: right;\">           7.32011</td><td style=\"text-align: right;\">       7.32011</td><td style=\"text-align: right;\"> 1699766020</td><td style=\"text-align: right;\">                        0</td><td>                 </td><td style=\"text-align: right;\">                   1</td><td>7a7d3_00049</td><td style=\"text-align: right;\">   0.00800061</td></tr>\n",
       "</tbody>\n",
       "</table>\n",
       "</div>\n",
       "<style>\n",
       ".trialProgress {\n",
       "  display: flex;\n",
       "  flex-direction: column;\n",
       "  color: var(--jp-ui-font-color1);\n",
       "}\n",
       ".trialProgress h3 {\n",
       "  font-weight: bold;\n",
       "}\n",
       ".trialProgress td {\n",
       "  white-space: nowrap;\n",
       "}\n",
       "</style>\n"
      ],
      "text/plain": [
       "<IPython.core.display.HTML object>"
      ]
     },
     "metadata": {},
     "output_type": "display_data"
    },
    {
     "name": "stdout",
     "output_type": "stream",
     "text": [
      "\u001b[2m\u001b[36m(train_cifar pid=39028)\u001b[0m Epoch: 0, Training loss: 4.8097, Validation loss: 4.2419\n"
     ]
    },
    {
     "name": "stderr",
     "output_type": "stream",
     "text": [
      "\u001b[2m\u001b[36m(train_cifar pid=21804)\u001b[0m c:\\Users\\16963\\.conda\\envs\\pytorch\\lib\\site-packages\\torch\\nn\\modules\\loss.py:530: UserWarning: Using a target size (torch.Size([16])) that is different to the input size (torch.Size([16, 1])). This will likely lead to incorrect results due to broadcasting. Please ensure they have the same size.\n",
      "\u001b[2m\u001b[36m(train_cifar pid=21804)\u001b[0m   return F.mse_loss(input, target, reduction=self.reduction)\n",
      "\u001b[2m\u001b[36m(train_cifar pid=48280)\u001b[0m c:\\Users\\16963\\.conda\\envs\\pytorch\\lib\\site-packages\\torch\\nn\\modules\\loss.py:530: UserWarning: Using a target size (torch.Size([64])) that is different to the input size (torch.Size([64, 1])). This will likely lead to incorrect results due to broadcasting. Please ensure they have the same size.\n",
      "\u001b[2m\u001b[36m(train_cifar pid=48280)\u001b[0m   return F.mse_loss(input, target, reduction=self.reduction)\n",
      "\u001b[2m\u001b[36m(train_cifar pid=5140)\u001b[0m c:\\Users\\16963\\.conda\\envs\\pytorch\\lib\\site-packages\\torch\\nn\\modules\\loss.py:530: UserWarning: Using a target size (torch.Size([64])) that is different to the input size (torch.Size([64, 1])). This will likely lead to incorrect results due to broadcasting. Please ensure they have the same size.\n",
      "\u001b[2m\u001b[36m(train_cifar pid=5140)\u001b[0m   return F.mse_loss(input, target, reduction=self.reduction)\n"
     ]
    },
    {
     "name": "stdout",
     "output_type": "stream",
     "text": [
      "\u001b[2m\u001b[36m(train_cifar pid=48280)\u001b[0m Epoch: 0, Training loss: 1.2095, Validation loss: 0.9544\n",
      "\u001b[2m\u001b[36m(train_cifar pid=39028)\u001b[0m Epoch: 1, Training loss: 3.4499, Validation loss: 4.3380\n",
      "\u001b[2m\u001b[36m(train_cifar pid=5140)\u001b[0m Epoch: 0, Training loss: 16.2378, Validation loss: 0.7675\n",
      "\u001b[2m\u001b[36m(train_cifar pid=21804)\u001b[0m Epoch: 0, Training loss: 11.4980, Validation loss: 3.4650\n",
      "\u001b[2m\u001b[36m(train_cifar pid=48280)\u001b[0m Epoch: 1, Training loss: 0.8527, Validation loss: 1.1245\n",
      "\u001b[2m\u001b[36m(train_cifar pid=39028)\u001b[0m Epoch: 2, Training loss: 3.5254, Validation loss: 4.7699\n"
     ]
    },
    {
     "name": "stderr",
     "output_type": "stream",
     "text": [
      "\u001b[2m\u001b[36m(train_cifar pid=48280)\u001b[0m c:\\Users\\16963\\.conda\\envs\\pytorch\\lib\\site-packages\\torch\\nn\\modules\\loss.py:530: UserWarning: Using a target size (torch.Size([32])) that is different to the input size (torch.Size([32, 1])). This will likely lead to incorrect results due to broadcasting. Please ensure they have the same size.\n",
      "\u001b[2m\u001b[36m(train_cifar pid=48280)\u001b[0m   return F.mse_loss(input, target, reduction=self.reduction)\n"
     ]
    },
    {
     "name": "stdout",
     "output_type": "stream",
     "text": [
      "\u001b[2m\u001b[36m(train_cifar pid=48280)\u001b[0m Epoch: 0, Training loss: 3.7545, Validation loss: 2.7559\n",
      "\u001b[2m\u001b[36m(train_cifar pid=39028)\u001b[0m Epoch: 3, Training loss: 3.4713, Validation loss: 5.2676\n",
      "\u001b[2m\u001b[36m(train_cifar pid=5140)\u001b[0m Epoch: 1, Training loss: 0.8613, Validation loss: 1.1550\n",
      "\u001b[2m\u001b[36m(train_cifar pid=21804)\u001b[0m Epoch: 1, Training loss: 3.4845, Validation loss: 4.8711\n"
     ]
    },
    {
     "name": "stderr",
     "output_type": "stream",
     "text": [
      "\u001b[2m\u001b[36m(train_cifar pid=5140)\u001b[0m c:\\Users\\16963\\.conda\\envs\\pytorch\\lib\\site-packages\\torch\\nn\\modules\\loss.py:530: UserWarning: Using a target size (torch.Size([16])) that is different to the input size (torch.Size([16, 1])). This will likely lead to incorrect results due to broadcasting. Please ensure they have the same size.\n",
      "\u001b[2m\u001b[36m(train_cifar pid=5140)\u001b[0m   return F.mse_loss(input, target, reduction=self.reduction)\n"
     ]
    },
    {
     "name": "stdout",
     "output_type": "stream",
     "text": [
      "\u001b[2m\u001b[36m(train_cifar pid=48280)\u001b[0m Epoch: 0, Training loss: 1.8348, Validation loss: 1.0035\n",
      "\u001b[2m\u001b[36m(train_cifar pid=39028)\u001b[0m Epoch: 4, Training loss: 3.4404, Validation loss: 4.7186\n",
      "\u001b[2m\u001b[36m(train_cifar pid=5140)\u001b[0m Epoch: 0, Training loss: 3.6670, Validation loss: 4.3399\n",
      "\u001b[2m\u001b[36m(train_cifar pid=21804)\u001b[0m Epoch: 0, Training loss: 3.4139, Validation loss: 4.5460\n"
     ]
    },
    {
     "name": "stderr",
     "output_type": "stream",
     "text": [
      "\u001b[2m\u001b[36m(train_cifar pid=21804)\u001b[0m c:\\Users\\16963\\.conda\\envs\\pytorch\\lib\\site-packages\\torch\\nn\\modules\\loss.py:530: UserWarning: Using a target size (torch.Size([64])) that is different to the input size (torch.Size([64, 1])). This will likely lead to incorrect results due to broadcasting. Please ensure they have the same size.\n",
      "\u001b[2m\u001b[36m(train_cifar pid=21804)\u001b[0m   return F.mse_loss(input, target, reduction=self.reduction)\n"
     ]
    },
    {
     "name": "stdout",
     "output_type": "stream",
     "text": [
      "\u001b[2m\u001b[36m(train_cifar pid=39028)\u001b[0m Epoch: 5, Training loss: 3.4770, Validation loss: 3.8369\n",
      "\u001b[2m\u001b[36m(train_cifar pid=5140)\u001b[0m Epoch: 0, Training loss: 3.9583, Validation loss: 3.9129\n",
      "\u001b[2m\u001b[36m(train_cifar pid=21804)\u001b[0m Epoch: 0, Training loss: 1.1008, Validation loss: 1.3035\n"
     ]
    },
    {
     "name": "stderr",
     "output_type": "stream",
     "text": [
      "\u001b[2m\u001b[36m(train_cifar pid=5140)\u001b[0m c:\\Users\\16963\\.conda\\envs\\pytorch\\lib\\site-packages\\torch\\nn\\modules\\loss.py:530: UserWarning: Using a target size (torch.Size([32])) that is different to the input size (torch.Size([32, 1])). This will likely lead to incorrect results due to broadcasting. Please ensure they have the same size.\n",
      "\u001b[2m\u001b[36m(train_cifar pid=5140)\u001b[0m   return F.mse_loss(input, target, reduction=self.reduction)\n"
     ]
    },
    {
     "name": "stdout",
     "output_type": "stream",
     "text": [
      "\u001b[2m\u001b[36m(train_cifar pid=5140)\u001b[0m Epoch: 0, Training loss: 5.3745, Validation loss: 2.6297\n",
      "\u001b[2m\u001b[36m(train_cifar pid=39028)\u001b[0m Epoch: 6, Training loss: 3.4491, Validation loss: 5.0194\n",
      "\u001b[2m\u001b[36m(train_cifar pid=48280)\u001b[0m Epoch: 0, Training loss: 15.3886, Validation loss: 1.0350\n",
      "\u001b[2m\u001b[36m(train_cifar pid=21804)\u001b[0m Epoch: 0, Training loss: 2.2170, Validation loss: 1.4362\n",
      "\u001b[2m\u001b[36m(train_cifar pid=39028)\u001b[0m Epoch: 7, Training loss: 3.4676, Validation loss: 4.8969\n",
      "\u001b[2m\u001b[36m(train_cifar pid=5140)\u001b[0m Epoch: 0, Training loss: 4.9533, Validation loss: 5.6679\n",
      "\u001b[2m\u001b[36m(train_cifar pid=21804)\u001b[0m Epoch: 0, Training loss: 0.9470, Validation loss: 0.9978\n",
      "\u001b[2m\u001b[36m(train_cifar pid=39028)\u001b[0m Epoch: 8, Training loss: 3.4521, Validation loss: 4.6095\n",
      "\u001b[2m\u001b[36m(train_cifar pid=21804)\u001b[0m Epoch: 1, Training loss: 0.8741, Validation loss: 1.0915\n",
      "\u001b[2m\u001b[36m(train_cifar pid=5140)\u001b[0m Epoch: 0, Training loss: 1.9729, Validation loss: 1.0982\n",
      "\u001b[2m\u001b[36m(train_cifar pid=48280)\u001b[0m Epoch: 1, Training loss: 0.9916, Validation loss: 0.9578\n",
      "\u001b[2m\u001b[36m(train_cifar pid=39028)\u001b[0m Epoch: 9, Training loss: 3.4964, Validation loss: 5.1689\n",
      "\u001b[2m\u001b[36m(train_cifar pid=21804)\u001b[0m Epoch: 2, Training loss: 0.8525, Validation loss: 1.1345\n",
      "\u001b[2m\u001b[36m(train_cifar pid=5140)\u001b[0m Epoch: 0, Training loss: 5.5285, Validation loss: 3.7694\n",
      "\u001b[2m\u001b[36m(train_cifar pid=48280)\u001b[0m Epoch: 2, Training loss: 0.8754, Validation loss: 1.0781\n",
      "\u001b[2m\u001b[36m(train_cifar pid=21804)\u001b[0m Epoch: 3, Training loss: 0.8508, Validation loss: 1.2896\n",
      "\u001b[2m\u001b[36m(train_cifar pid=39028)\u001b[0m Epoch: 10, Training loss: 3.4590, Validation loss: 5.0341\n"
     ]
    },
    {
     "name": "stderr",
     "output_type": "stream",
     "text": [
      "\u001b[2m\u001b[36m(train_cifar pid=21804)\u001b[0m c:\\Users\\16963\\.conda\\envs\\pytorch\\lib\\site-packages\\torch\\nn\\modules\\loss.py:530: UserWarning: Using a target size (torch.Size([32])) that is different to the input size (torch.Size([32, 1])). This will likely lead to incorrect results due to broadcasting. Please ensure they have the same size.\n",
      "\u001b[2m\u001b[36m(train_cifar pid=21804)\u001b[0m   return F.mse_loss(input, target, reduction=self.reduction)\n"
     ]
    },
    {
     "name": "stdout",
     "output_type": "stream",
     "text": [
      "\u001b[2m\u001b[36m(train_cifar pid=21804)\u001b[0m Epoch: 0, Training loss: 1.7958, Validation loss: 2.4233\n",
      "\u001b[2m\u001b[36m(train_cifar pid=39028)\u001b[0m Epoch: 11, Training loss: 3.4614, Validation loss: 4.4245\n",
      "\u001b[2m\u001b[36m(train_cifar pid=5140)\u001b[0m Epoch: 1, Training loss: 3.5052, Validation loss: 3.2254\n",
      "\u001b[2m\u001b[36m(train_cifar pid=48280)\u001b[0m Epoch: 3, Training loss: 0.8546, Validation loss: 1.0539\n",
      "\u001b[2m\u001b[36m(train_cifar pid=39028)\u001b[0m Epoch: 12, Training loss: 3.4527, Validation loss: 5.9121\n",
      "\u001b[2m\u001b[36m(train_cifar pid=21804)\u001b[0m Epoch: 0, Training loss: 4.3544, Validation loss: 4.8087\n",
      "\u001b[2m\u001b[36m(train_cifar pid=39028)\u001b[0m Epoch: 13, Training loss: 3.5234, Validation loss: 5.1346\n",
      "\u001b[2m\u001b[36m(train_cifar pid=21804)\u001b[0m Epoch: 0, Training loss: 3.5006, Validation loss: 5.0658\n",
      "\u001b[2m\u001b[36m(train_cifar pid=5140)\u001b[0m Epoch: 2, Training loss: 3.4834, Validation loss: 4.5189\n",
      "\u001b[2m\u001b[36m(train_cifar pid=48280)\u001b[0m Epoch: 4, Training loss: 0.8658, Validation loss: 1.1174\n",
      "\u001b[2m\u001b[36m(train_cifar pid=39028)\u001b[0m Epoch: 14, Training loss: 3.4689, Validation loss: 4.6829\n",
      "\u001b[2m\u001b[36m(train_cifar pid=21804)\u001b[0m Epoch: 0, Training loss: 3.7212, Validation loss: 4.5891\n",
      "\u001b[2m\u001b[36m(train_cifar pid=5140)\u001b[0m Epoch: 3, Training loss: 3.5473, Validation loss: 5.0580\n",
      "\u001b[2m\u001b[36m(train_cifar pid=39028)\u001b[0m Epoch: 15, Training loss: 3.4373, Validation loss: 4.2520\n",
      "\u001b[2m\u001b[36m(train_cifar pid=21804)\u001b[0m Epoch: 1, Training loss: 3.4883, Validation loss: 4.3606\n",
      "\u001b[2m\u001b[36m(train_cifar pid=48280)\u001b[0m Epoch: 5, Training loss: 0.8672, Validation loss: 1.3032\n",
      "\u001b[2m\u001b[36m(train_cifar pid=39028)\u001b[0m Epoch: 16, Training loss: 3.4410, Validation loss: 4.8510\n",
      "\u001b[2m\u001b[36m(train_cifar pid=21804)\u001b[0m Epoch: 2, Training loss: 3.4479, Validation loss: 4.3506\n",
      "\u001b[2m\u001b[36m(train_cifar pid=5140)\u001b[0m Epoch: 4, Training loss: 3.4877, Validation loss: 4.1474\n",
      "\u001b[2m\u001b[36m(train_cifar pid=39028)\u001b[0m Epoch: 17, Training loss: 3.4498, Validation loss: 4.4167\n",
      "\u001b[2m\u001b[36m(train_cifar pid=48280)\u001b[0m Epoch: 6, Training loss: 0.8909, Validation loss: 1.1704\n",
      "\u001b[2m\u001b[36m(train_cifar pid=21804)\u001b[0m Epoch: 3, Training loss: 3.4571, Validation loss: 4.6582\n",
      "\u001b[2m\u001b[36m(train_cifar pid=39028)\u001b[0m Epoch: 18, Training loss: 3.4500, Validation loss: 4.2986\n",
      "\u001b[2m\u001b[36m(train_cifar pid=21804)\u001b[0m Epoch: 4, Training loss: 3.4377, Validation loss: 4.5127\n",
      "\u001b[2m\u001b[36m(train_cifar pid=5140)\u001b[0m Epoch: 5, Training loss: 3.4592, Validation loss: 5.0413\n",
      "\u001b[2m\u001b[36m(train_cifar pid=39028)\u001b[0m Epoch: 19, Training loss: 3.4454, Validation loss: 4.6436\n",
      "\u001b[2m\u001b[36m(train_cifar pid=39028)\u001b[0m Finished Training\n",
      "\u001b[2m\u001b[36m(train_cifar pid=48280)\u001b[0m Epoch: 7, Training loss: 0.8732, Validation loss: 1.0630\n",
      "\u001b[2m\u001b[36m(train_cifar pid=21804)\u001b[0m Epoch: 5, Training loss: 3.4388, Validation loss: 5.4366\n"
     ]
    },
    {
     "name": "stderr",
     "output_type": "stream",
     "text": [
      "\u001b[2m\u001b[36m(train_cifar pid=39028)\u001b[0m c:\\Users\\16963\\.conda\\envs\\pytorch\\lib\\site-packages\\torch\\nn\\modules\\loss.py:530: UserWarning: Using a target size (torch.Size([64])) that is different to the input size (torch.Size([64, 1])). This will likely lead to incorrect results due to broadcasting. Please ensure they have the same size.\n",
      "\u001b[2m\u001b[36m(train_cifar pid=39028)\u001b[0m   return F.mse_loss(input, target, reduction=self.reduction)\n"
     ]
    },
    {
     "name": "stdout",
     "output_type": "stream",
     "text": [
      "\u001b[2m\u001b[36m(train_cifar pid=5140)\u001b[0m Epoch: 6, Training loss: 3.4829, Validation loss: 4.3102\n",
      "\u001b[2m\u001b[36m(train_cifar pid=21804)\u001b[0m Epoch: 6, Training loss: 3.4532, Validation loss: 4.2069\n",
      "\u001b[2m\u001b[36m(train_cifar pid=39028)\u001b[0m Epoch: 0, Training loss: 1.8299, Validation loss: 1.0502\n",
      "\u001b[2m\u001b[36m(train_cifar pid=48280)\u001b[0m Epoch: 8, Training loss: 0.8696, Validation loss: 1.4094\n",
      "\u001b[2m\u001b[36m(train_cifar pid=21804)\u001b[0m Epoch: 7, Training loss: 3.4115, Validation loss: 5.5196\n",
      "\u001b[2m\u001b[36m(train_cifar pid=5140)\u001b[0m Epoch: 7, Training loss: 3.4230, Validation loss: 4.2727\n",
      "\u001b[2m\u001b[36m(train_cifar pid=21804)\u001b[0m Epoch: 0, Training loss: 2.3833, Validation loss: 2.2883\n",
      "\u001b[2m\u001b[36m(train_cifar pid=39028)\u001b[0m Epoch: 1, Training loss: 0.8506, Validation loss: 1.4450\n",
      "\u001b[2m\u001b[36m(train_cifar pid=48280)\u001b[0m Epoch: 9, Training loss: 0.8660, Validation loss: 1.2572\n",
      "\u001b[2m\u001b[36m(train_cifar pid=21804)\u001b[0m Epoch: 0, Training loss: 2.8603, Validation loss: 2.9841\n",
      "\u001b[2m\u001b[36m(train_cifar pid=39028)\u001b[0m Epoch: 0, Training loss: 1.2849, Validation loss: 1.3447\n",
      "\u001b[2m\u001b[36m(train_cifar pid=5140)\u001b[0m Epoch: 8, Training loss: 3.4640, Validation loss: 4.7609\n",
      "\u001b[2m\u001b[36m(train_cifar pid=48280)\u001b[0m Epoch: 10, Training loss: 0.9112, Validation loss: 1.3959\n",
      "\u001b[2m\u001b[36m(train_cifar pid=39028)\u001b[0m Epoch: 0, Training loss: 2.8521, Validation loss: 2.1683\n",
      "\u001b[2m\u001b[36m(train_cifar pid=21804)\u001b[0m Epoch: 0, Training loss: 2.0325, Validation loss: 3.1332\n",
      "\u001b[2m\u001b[36m(train_cifar pid=5140)\u001b[0m Epoch: 9, Training loss: 3.4557, Validation loss: 5.2013\n",
      "\u001b[2m\u001b[36m(train_cifar pid=21804)\u001b[0m Epoch: 0, Training loss: 1.2964, Validation loss: 1.0612\n",
      "\u001b[2m\u001b[36m(train_cifar pid=39028)\u001b[0m Epoch: 0, Training loss: 8.0920, Validation loss: 5.6728\n",
      "\u001b[2m\u001b[36m(train_cifar pid=21804)\u001b[0m Epoch: 1, Training loss: 0.8525, Validation loss: 1.0843\n",
      "\u001b[2m\u001b[36m(train_cifar pid=48280)\u001b[0m Epoch: 11, Training loss: 0.8670, Validation loss: 1.1579\n",
      "\u001b[2m\u001b[36m(train_cifar pid=39028)\u001b[0m Epoch: 0, Training loss: 2.6554, Validation loss: 1.6813\n",
      "\u001b[2m\u001b[36m(train_cifar pid=5140)\u001b[0m Epoch: 10, Training loss: 3.4399, Validation loss: 4.6722\n",
      "\u001b[2m\u001b[36m(train_cifar pid=21804)\u001b[0m Epoch: 2, Training loss: 0.8560, Validation loss: 1.2156\n",
      "\u001b[2m\u001b[36m(train_cifar pid=21804)\u001b[0m Epoch: 3, Training loss: 0.8516, Validation loss: 1.2232\n",
      "\u001b[2m\u001b[36m(train_cifar pid=48280)\u001b[0m Epoch: 12, Training loss: 0.8476, Validation loss: 1.1196\n",
      "\u001b[2m\u001b[36m(train_cifar pid=5140)\u001b[0m Epoch: 11, Training loss: 3.4556, Validation loss: 4.1714\n",
      "\u001b[2m\u001b[36m(train_cifar pid=21804)\u001b[0m Epoch: 0, Training loss: 1.7922, Validation loss: 2.4694\n",
      "\u001b[2m\u001b[36m(train_cifar pid=39028)\u001b[0m Epoch: 0, Training loss: 90.0993, Validation loss: 6.2956\n",
      "\u001b[2m\u001b[36m(train_cifar pid=21804)\u001b[0m Epoch: 0, Training loss: 0.8605, Validation loss: 1.1205\n",
      "\u001b[2m\u001b[36m(train_cifar pid=48280)\u001b[0m Epoch: 13, Training loss: 0.8756, Validation loss: 1.1943\n",
      "\u001b[2m\u001b[36m(train_cifar pid=39028)\u001b[0m Epoch: 0, Training loss: 2.2058, Validation loss: 1.4409\n",
      "\u001b[2m\u001b[36m(train_cifar pid=5140)\u001b[0m Epoch: 12, Training loss: 3.4411, Validation loss: 5.0655\n",
      "\u001b[2m\u001b[36m(train_cifar pid=21804)\u001b[0m Epoch: 1, Training loss: 0.8522, Validation loss: 1.1441\n",
      "\u001b[2m\u001b[36m(train_cifar pid=39028)\u001b[0m Epoch: 0, Training loss: 74.1742, Validation loss: 1.0365\n",
      "\u001b[2m\u001b[36m(train_cifar pid=48280)\u001b[0m Epoch: 14, Training loss: 0.8736, Validation loss: 1.4671\n",
      "\u001b[2m\u001b[36m(train_cifar pid=21804)\u001b[0m Epoch: 0, Training loss: 12.3251, Validation loss: 2.4670\n",
      "\u001b[2m\u001b[36m(train_cifar pid=5140)\u001b[0m Epoch: 13, Training loss: 3.4389, Validation loss: 4.3607\n",
      "\u001b[2m\u001b[36m(train_cifar pid=39028)\u001b[0m Epoch: 1, Training loss: 0.9484, Validation loss: 1.3007\n",
      "\u001b[2m\u001b[36m(train_cifar pid=21804)\u001b[0m Epoch: 0, Training loss: 0.9469, Validation loss: 1.1648\n"
     ]
    },
    {
     "name": "stderr",
     "output_type": "stream",
     "text": [
      "\u001b[2m\u001b[36m(train_cifar pid=39028)\u001b[0m c:\\Users\\16963\\.conda\\envs\\pytorch\\lib\\site-packages\\torch\\nn\\modules\\loss.py:530: UserWarning: Using a target size (torch.Size([32])) that is different to the input size (torch.Size([32, 1])). This will likely lead to incorrect results due to broadcasting. Please ensure they have the same size.\n",
      "\u001b[2m\u001b[36m(train_cifar pid=39028)\u001b[0m   return F.mse_loss(input, target, reduction=self.reduction)\n"
     ]
    },
    {
     "name": "stdout",
     "output_type": "stream",
     "text": [
      "\u001b[2m\u001b[36m(train_cifar pid=39028)\u001b[0m Epoch: 0, Training loss: 2.1349, Validation loss: 2.1032\n",
      "\u001b[2m\u001b[36m(train_cifar pid=48280)\u001b[0m Epoch: 15, Training loss: 0.8711, Validation loss: 0.9067\n",
      "\u001b[2m\u001b[36m(train_cifar pid=5140)\u001b[0m Epoch: 14, Training loss: 3.4319, Validation loss: 4.1254\n",
      "\u001b[2m\u001b[36m(train_cifar pid=21804)\u001b[0m Epoch: 0, Training loss: 22.6125, Validation loss: 6.3463\n",
      "\u001b[2m\u001b[36m(train_cifar pid=39028)\u001b[0m Epoch: 1, Training loss: 1.7612, Validation loss: 2.3538\n",
      "\u001b[2m\u001b[36m(train_cifar pid=21804)\u001b[0m Epoch: 0, Training loss: 1.4045, Validation loss: 1.1584\n",
      "\u001b[2m\u001b[36m(train_cifar pid=39028)\u001b[0m Epoch: 2, Training loss: 1.7320, Validation loss: 2.7338\n",
      "\u001b[2m\u001b[36m(train_cifar pid=5140)\u001b[0m Epoch: 15, Training loss: 3.4260, Validation loss: 4.7963\n",
      "\u001b[2m\u001b[36m(train_cifar pid=48280)\u001b[0m Epoch: 16, Training loss: 0.8644, Validation loss: 1.1427\n",
      "\u001b[2m\u001b[36m(train_cifar pid=21804)\u001b[0m Epoch: 0, Training loss: 4.5497, Validation loss: 5.0808\n",
      "\u001b[2m\u001b[36m(train_cifar pid=39028)\u001b[0m Epoch: 3, Training loss: 1.7192, Validation loss: 2.6334\n",
      "\u001b[2m\u001b[36m(train_cifar pid=5140)\u001b[0m Epoch: 0, Training loss: 7.2667, Validation loss: 4.2173\n",
      "\u001b[2m\u001b[36m(train_cifar pid=21804)\u001b[0m Epoch: 0, Training loss: 2.4944, Validation loss: 2.7487\n",
      "\u001b[2m\u001b[36m(train_cifar pid=39028)\u001b[0m Epoch: 0, Training loss: 3.7645, Validation loss: 4.7273\n",
      "\u001b[2m\u001b[36m(train_cifar pid=5140)\u001b[0m Epoch: 1, Training loss: 3.4644, Validation loss: 3.7109\n",
      "\u001b[2m\u001b[36m(train_cifar pid=48280)\u001b[0m Epoch: 17, Training loss: 0.8479, Validation loss: 1.1232\n",
      "\u001b[2m\u001b[36m(train_cifar pid=21804)\u001b[0m Epoch: 0, Training loss: 0.8464, Validation loss: 1.1404\n",
      "\u001b[2m\u001b[36m(train_cifar pid=39028)\u001b[0m Epoch: 1, Training loss: 3.3963, Validation loss: 5.3448\n",
      "\u001b[2m\u001b[36m(train_cifar pid=5140)\u001b[0m Epoch: 2, Training loss: 3.4286, Validation loss: 4.2944\n",
      "\u001b[2m\u001b[36m(train_cifar pid=21804)\u001b[0m Epoch: 1, Training loss: 0.8493, Validation loss: 1.0935\n",
      "\u001b[2m\u001b[36m(train_cifar pid=39028)\u001b[0m Epoch: 0, Training loss: 4.9206, Validation loss: 4.6932\n",
      "\u001b[2m\u001b[36m(train_cifar pid=48280)\u001b[0m Epoch: 18, Training loss: 0.8687, Validation loss: 1.1020\n",
      "\u001b[2m\u001b[36m(train_cifar pid=5140)\u001b[0m Epoch: 3, Training loss: 3.4322, Validation loss: 4.4948\n",
      "\u001b[2m\u001b[36m(train_cifar pid=21804)\u001b[0m Epoch: 2, Training loss: 0.8477, Validation loss: 1.1370\n",
      "\u001b[2m\u001b[36m(train_cifar pid=5140)\u001b[0m Epoch: 4, Training loss: 3.4137, Validation loss: 4.5094\n",
      "\u001b[2m\u001b[36m(train_cifar pid=39028)\u001b[0m Epoch: 1, Training loss: 3.4324, Validation loss: 4.3655\n",
      "\u001b[2m\u001b[36m(train_cifar pid=21804)\u001b[0m Epoch: 3, Training loss: 0.8469, Validation loss: 1.1367\n",
      "\u001b[2m\u001b[36m(train_cifar pid=48280)\u001b[0m Epoch: 19, Training loss: 0.8647, Validation loss: 1.6609\n",
      "\u001b[2m\u001b[36m(train_cifar pid=5140)\u001b[0m Epoch: 5, Training loss: 3.4182, Validation loss: 4.5429\n",
      "\u001b[2m\u001b[36m(train_cifar pid=21804)\u001b[0m Epoch: 4, Training loss: 0.8499, Validation loss: 1.1101\n",
      "\u001b[2m\u001b[36m(train_cifar pid=39028)\u001b[0m Epoch: 2, Training loss: 3.4622, Validation loss: 4.9620\n",
      "\u001b[2m\u001b[36m(train_cifar pid=21804)\u001b[0m Epoch: 5, Training loss: 0.8525, Validation loss: 1.1176\n",
      "\u001b[2m\u001b[36m(train_cifar pid=5140)\u001b[0m Epoch: 6, Training loss: 3.4229, Validation loss: 4.6170\n",
      "\u001b[2m\u001b[36m(train_cifar pid=39028)\u001b[0m Epoch: 3, Training loss: 3.4429, Validation loss: 4.8060\n",
      "\u001b[2m\u001b[36m(train_cifar pid=48280)\u001b[0m Epoch: 20, Training loss: 0.8920, Validation loss: 1.0592\n",
      "\u001b[2m\u001b[36m(train_cifar pid=21804)\u001b[0m Epoch: 6, Training loss: 0.8431, Validation loss: 1.1276\n",
      "\u001b[2m\u001b[36m(train_cifar pid=5140)\u001b[0m Epoch: 7, Training loss: 3.4104, Validation loss: 4.6436\n",
      "\u001b[2m\u001b[36m(train_cifar pid=39028)\u001b[0m Epoch: 4, Training loss: 3.4613, Validation loss: 5.0802\n",
      "\u001b[2m\u001b[36m(train_cifar pid=21804)\u001b[0m Epoch: 7, Training loss: 0.8464, Validation loss: 1.1269\n",
      "\u001b[2m\u001b[36m(train_cifar pid=5140)\u001b[0m Epoch: 8, Training loss: 3.4193, Validation loss: 4.6324\n",
      "\u001b[2m\u001b[36m(train_cifar pid=39028)\u001b[0m Epoch: 5, Training loss: 3.4553, Validation loss: 5.2734\n",
      "\u001b[2m\u001b[36m(train_cifar pid=48280)\u001b[0m Epoch: 21, Training loss: 0.8532, Validation loss: 1.2407\n",
      "\u001b[2m\u001b[36m(train_cifar pid=21804)\u001b[0m Epoch: 0, Training loss: 3.7793, Validation loss: 4.7421\n",
      "\u001b[2m\u001b[36m(train_cifar pid=5140)\u001b[0m Epoch: 9, Training loss: 3.4011, Validation loss: 4.3441\n",
      "\u001b[2m\u001b[36m(train_cifar pid=39028)\u001b[0m Epoch: 6, Training loss: 3.4121, Validation loss: 3.8513\n",
      "\u001b[2m\u001b[36m(train_cifar pid=21804)\u001b[0m Epoch: 1, Training loss: 3.6482, Validation loss: 6.0815\n",
      "\u001b[2m\u001b[36m(train_cifar pid=5140)\u001b[0m Epoch: 10, Training loss: 3.4023, Validation loss: 4.5331\n",
      "\u001b[2m\u001b[36m(train_cifar pid=48280)\u001b[0m Epoch: 22, Training loss: 0.8545, Validation loss: 1.3322\n",
      "\u001b[2m\u001b[36m(train_cifar pid=39028)\u001b[0m Epoch: 7, Training loss: 3.4176, Validation loss: 4.7306\n",
      "\u001b[2m\u001b[36m(train_cifar pid=21804)\u001b[0m Epoch: 0, Training loss: 4.1641, Validation loss: 5.0102\n",
      "\u001b[2m\u001b[36m(train_cifar pid=5140)\u001b[0m Epoch: 11, Training loss: 3.4162, Validation loss: 4.6021\n",
      "\u001b[2m\u001b[36m(train_cifar pid=21804)\u001b[0m Epoch: 0, Training loss: 3.9315, Validation loss: 3.3917\n",
      "\u001b[2m\u001b[36m(train_cifar pid=39028)\u001b[0m Epoch: 8, Training loss: 3.4383, Validation loss: 5.2996\n",
      "\u001b[2m\u001b[36m(train_cifar pid=5140)\u001b[0m Epoch: 12, Training loss: 3.4092, Validation loss: 4.7202\n",
      "\u001b[2m\u001b[36m(train_cifar pid=48280)\u001b[0m Epoch: 23, Training loss: 0.8581, Validation loss: 1.4163\n",
      "\u001b[2m\u001b[36m(train_cifar pid=21804)\u001b[0m Epoch: 0, Training loss: 1.7946, Validation loss: 2.4844\n",
      "\u001b[2m\u001b[36m(train_cifar pid=39028)\u001b[0m Epoch: 9, Training loss: 3.4355, Validation loss: 4.7254\n",
      "\u001b[2m\u001b[36m(train_cifar pid=5140)\u001b[0m Epoch: 13, Training loss: 3.4149, Validation loss: 4.6257\n",
      "\u001b[2m\u001b[36m(train_cifar pid=48280)\u001b[0m Epoch: 24, Training loss: 0.8861, Validation loss: 1.0810\n",
      "\u001b[2m\u001b[36m(train_cifar pid=39028)\u001b[0m Epoch: 10, Training loss: 3.4148, Validation loss: 5.4183\n",
      "\u001b[2m\u001b[36m(train_cifar pid=5140)\u001b[0m Epoch: 14, Training loss: 3.4054, Validation loss: 4.5439\n",
      "\u001b[2m\u001b[36m(train_cifar pid=5140)\u001b[0m Epoch: 15, Training loss: 3.4209, Validation loss: 4.7374\n",
      "\u001b[2m\u001b[36m(train_cifar pid=39028)\u001b[0m Epoch: 11, Training loss: 3.4676, Validation loss: 5.0291\n",
      "\u001b[2m\u001b[36m(train_cifar pid=48280)\u001b[0m Epoch: 25, Training loss: 0.8537, Validation loss: 1.0744\n",
      "\u001b[2m\u001b[36m(train_cifar pid=39028)\u001b[0m Epoch: 12, Training loss: 3.4710, Validation loss: 4.8105\n",
      "\u001b[2m\u001b[36m(train_cifar pid=48280)\u001b[0m Epoch: 26, Training loss: 0.8576, Validation loss: 1.1082\n",
      "\u001b[2m\u001b[36m(train_cifar pid=39028)\u001b[0m Epoch: 13, Training loss: 3.4376, Validation loss: 4.7695\n",
      "\u001b[2m\u001b[36m(train_cifar pid=48280)\u001b[0m Epoch: 27, Training loss: 0.8455, Validation loss: 1.1377\n",
      "\u001b[2m\u001b[36m(train_cifar pid=39028)\u001b[0m Epoch: 14, Training loss: 3.4290, Validation loss: 4.2394\n",
      "\u001b[2m\u001b[36m(train_cifar pid=39028)\u001b[0m Epoch: 15, Training loss: 3.4451, Validation loss: 5.4240\n",
      "\u001b[2m\u001b[36m(train_cifar pid=48280)\u001b[0m Epoch: 28, Training loss: 0.8411, Validation loss: 1.1345\n",
      "\u001b[2m\u001b[36m(train_cifar pid=48280)\u001b[0m Epoch: 29, Training loss: 0.8453, Validation loss: 1.1450\n",
      "\u001b[2m\u001b[36m(train_cifar pid=48280)\u001b[0m Epoch: 30, Training loss: 0.8522, Validation loss: 1.1522\n",
      "\u001b[2m\u001b[36m(train_cifar pid=48280)\u001b[0m Epoch: 31, Training loss: 0.8490, Validation loss: 1.1615\n",
      "\u001b[2m\u001b[36m(train_cifar pid=48280)\u001b[0m Epoch: 32, Training loss: 0.8518, Validation loss: 1.2093\n",
      "\u001b[2m\u001b[36m(train_cifar pid=48280)\u001b[0m Epoch: 33, Training loss: 0.8518, Validation loss: 1.1942\n",
      "\u001b[2m\u001b[36m(train_cifar pid=48280)\u001b[0m Epoch: 34, Training loss: 0.8588, Validation loss: 1.2150\n",
      "\u001b[2m\u001b[36m(train_cifar pid=48280)\u001b[0m Epoch: 35, Training loss: 0.8601, Validation loss: 1.2303\n",
      "\u001b[2m\u001b[36m(train_cifar pid=48280)\u001b[0m Epoch: 36, Training loss: 0.8470, Validation loss: 1.1502\n",
      "\u001b[2m\u001b[36m(train_cifar pid=48280)\u001b[0m Epoch: 37, Training loss: 0.8523, Validation loss: 1.0168\n",
      "\u001b[2m\u001b[36m(train_cifar pid=48280)\u001b[0m Epoch: 38, Training loss: 0.8508, Validation loss: 1.1704\n",
      "\u001b[2m\u001b[36m(train_cifar pid=48280)\u001b[0m Epoch: 39, Training loss: 0.8473, Validation loss: 1.1574\n",
      "\u001b[2m\u001b[36m(train_cifar pid=48280)\u001b[0m Epoch: 40, Training loss: 0.8482, Validation loss: 1.1817\n",
      "\u001b[2m\u001b[36m(train_cifar pid=48280)\u001b[0m Epoch: 41, Training loss: 0.8497, Validation loss: 1.1133\n",
      "\u001b[2m\u001b[36m(train_cifar pid=48280)\u001b[0m Epoch: 42, Training loss: 0.8528, Validation loss: 1.1238\n",
      "\u001b[2m\u001b[36m(train_cifar pid=48280)\u001b[0m Epoch: 43, Training loss: 0.8517, Validation loss: 1.1578\n",
      "\u001b[2m\u001b[36m(train_cifar pid=48280)\u001b[0m Epoch: 44, Training loss: 0.8507, Validation loss: 1.0863\n",
      "\u001b[2m\u001b[36m(train_cifar pid=48280)\u001b[0m Epoch: 45, Training loss: 0.8529, Validation loss: 1.2559\n",
      "\u001b[2m\u001b[36m(train_cifar pid=48280)\u001b[0m Epoch: 46, Training loss: 0.8452, Validation loss: 1.0721\n",
      "\u001b[2m\u001b[36m(train_cifar pid=48280)\u001b[0m Epoch: 47, Training loss: 0.8510, Validation loss: 1.2478\n",
      "\u001b[2m\u001b[36m(train_cifar pid=48280)\u001b[0m Epoch: 48, Training loss: 0.8523, Validation loss: 1.1841\n",
      "\u001b[2m\u001b[36m(train_cifar pid=48280)\u001b[0m Epoch: 49, Training loss: 0.8485, Validation loss: 1.1016\n"
     ]
    },
    {
     "name": "stderr",
     "output_type": "stream",
     "text": [
      "2023-11-12 13:16:15,386\tINFO tune.py:762 -- Total run time: 482.97 seconds (482.80 seconds for the tuning loop).\n"
     ]
    },
    {
     "name": "stdout",
     "output_type": "stream",
     "text": [
      "-----------------------------------------------------------\n",
      "Best trial config: {'hidden_size': 4, 'fc1_outputsize': 128, 'num_layers': 1, 'lr': 0.0009482298058717339, 'batch_size': 64, 'num_epochs': 35}\n",
      "Best trial final validation loss: 0.14336243271827698\n"
     ]
    },
    {
     "ename": "TypeError",
     "evalue": "can't multiply sequence by non-int of type 'numpy.float64'",
     "output_type": "error",
     "traceback": [
      "\u001b[1;31m---------------------------------------------------------------------------\u001b[0m",
      "\u001b[1;31mTypeError\u001b[0m                                 Traceback (most recent call last)",
      "Input \u001b[1;32mIn [106]\u001b[0m, in \u001b[0;36m<cell line: 7>\u001b[1;34m()\u001b[0m\n\u001b[0;32m      5\u001b[0m torch\u001b[38;5;241m.\u001b[39msave(best_model1\u001b[38;5;241m.\u001b[39mstate_dict(), \u001b[38;5;124m\"\u001b[39m\u001b[38;5;124mbest_model1.pth\u001b[39m\u001b[38;5;124m\"\u001b[39m)\n\u001b[0;32m      6\u001b[0m \u001b[38;5;66;03m# 反归一化\u001b[39;00m\n\u001b[1;32m----> 7\u001b[0m predictions1 \u001b[38;5;241m=\u001b[39m \u001b[43mpredictions1\u001b[49m\u001b[38;5;241;43m*\u001b[39;49m\u001b[43m(\u001b[49m\u001b[43my_max1\u001b[49m\u001b[38;5;241;43m-\u001b[39;49m\u001b[43my_min1\u001b[49m\u001b[43m)\u001b[49m\u001b[38;5;241m+\u001b[39my_min1\n\u001b[0;32m      8\u001b[0m y_test1 \u001b[38;5;241m=\u001b[39m y_test1\u001b[38;5;241m*\u001b[39m(y_max1\u001b[38;5;241m-\u001b[39my_min1)\u001b[38;5;241m+\u001b[39my_min1\n\u001b[0;32m     10\u001b[0m \u001b[38;5;66;03m# 评价指标\u001b[39;00m\n",
      "\u001b[1;31mTypeError\u001b[0m: can't multiply sequence by non-int of type 'numpy.float64'"
     ]
    }
   ],
   "source": [
    "predictions1, best_model1 = main(config,\n",
    "                             x_train = x_train1, y_train = y_train1, x_val = x_val1, y_val = y_val1, x_test = x_test1, y_test = y_test1,\n",
    "                             num_samples=50,max_num_epochs=50,gpus_per_trial=0)\n",
    "\n",
    "# torch.save(best_model1.state_dict(), \"best_model1.pth\")\n",
    "# 反归一化\n",
    "predictions1 = np.array(predictions1)*(y_max1-y_min1)+y_min1\n",
    "y_test1 = y_test1*(y_max1-y_min1)+y_min1\n",
    "\n",
    "# 评价指标\n",
    "print(\"---------------------------------评价指标---------------------------------\")\n",
    "print(\"MAE:\",mean_absolute_error(y_test1, predictions1))\n",
    "print(\"MSE:\",mean_squared_error(y_test1, predictions1))\n",
    "print(\"RMSE:\",np.sqrt(mean_squared_error(y_test1, predictions1)))\n",
    "print(\"R2:\",r2_score(y_test1, predictions1))\n",
    "\n",
    "# 可视化\n",
    "print(\"---------------------------------预测效果---------------------------------\")\n",
    "plot(y_test1, predictions1)\n"
   ]
  },
  {
   "cell_type": "code",
   "execution_count": null,
   "metadata": {},
   "outputs": [],
   "source": []
  },
  {
   "cell_type": "code",
   "execution_count": null,
   "metadata": {},
   "outputs": [],
   "source": [
    "predictions2, best_model2 = main(config,\n",
    "                             x_train = x_train2, y_train = y_train2, x_val = x_val2, y_val = y_val2, x_test = x_test2, y_test = y_test2,\n",
    "                             num_samples=50,max_num_epochs=50,gpus_per_trial=0)\n",
    "\n",
    "# torch.save(best_model2.state_dict(), \"best_model2.pth\")\n",
    "\n",
    "# 反归一化\n",
    "predictions2 = np.array(predictions2)*(y_max2-y_min2)+y_min2\n",
    "y_test2 = y_test2*(y_max2-y_min2)+y_min2\n",
    "\n",
    "# 评价指标\n",
    "print(\"---------------------------------评价指标---------------------------------\")\n",
    "print(\"MAE:\",mean_absolute_error(y_test2, predictions2))\n",
    "print(\"MSE:\",mean_squared_error(y_test2, predictions2))\n",
    "print(\"RMSE:\",np.sqrt(mean_squared_error(y_test2, predictions2)))\n",
    "print(\"R2:\",r2_score(y_test2, predictions2))\n",
    "\n",
    "# 可视化\n",
    "print(\"---------------------------------预测效果---------------------------------\")\n",
    "plot(y_test2, predictions2)\n",
    "\n"
   ]
  },
  {
   "cell_type": "code",
   "execution_count": null,
   "metadata": {},
   "outputs": [],
   "source": [
    "predictions3, best_model3 = main(config,\n",
    "                                x_train = x_train3, y_train = y_train3, x_val = x_val3, y_val = y_val3, x_test = x_test3, y_test = y_test3,\n",
    "                                num_samples=50,max_num_epochs=50,gpus_per_trial=0)\n",
    "\n",
    "# torch.save(best_model3.state_dict(), \"best_model3.pth\")\n",
    "\n",
    "# 反归一化\n",
    "predictions3 = np.arrary(predictions3)*(y_max3-y_min3)+y_min3\n",
    "y_test3 = y_test3*(y_max3-y_min3)+y_min3\n",
    "\n",
    "# 评价指标\n",
    "print(\"---------------------------------评价指标---------------------------------\")\n",
    "print(\"MAE:\",mean_absolute_error(y_test3, predictions3))\n",
    "print(\"MSE:\",mean_squared_error(y_test3, predictions3))\n",
    "print(\"RMSE:\",np.sqrt(mean_squared_error(y_test3, predictions3)))\n",
    "print(\"R2:\",r2_score(y_test3, predictions3))\n",
    "\n",
    "# 可视化\n",
    "print(\"---------------------------------预测效果---------------------------------\")\n",
    "plot(y_test3, predictions3)"
   ]
  },
  {
   "cell_type": "code",
   "execution_count": null,
   "metadata": {},
   "outputs": [],
   "source": [
    "predictions4, best_model4 = main(config,\n",
    "                                 x_train = x_train4, y_train = y_train4, x_val = x_val4, y_val = y_val4, x_test = x_test4, y_test = y_test4,\n",
    "                                    num_samples=50,max_num_epochs=50,gpus_per_trial=0)\n",
    "\n",
    "# torch.save(best_model4.state_dict(), \"best_model4.pth\")\n",
    "\n",
    "# 反归一化\n",
    "predictions4 = np.array(predictions4)*(y_max4-y_min4)+y_min4\n",
    "y_test4 = y_test4*(y_max4-y_min4)+y_min4\n",
    "\n",
    "# 评价指标\n",
    "print(\"---------------------------------评价指标---------------------------------\")\n",
    "print(\"MAE:\",mean_absolute_error(y_test4, predictions4))\n",
    "print(\"MSE:\",mean_squared_error(y_test4, predictions4))\n",
    "print(\"RMSE:\",np.sqrt(mean_squared_error(y_test4, predictions4)))\n",
    "print(\"R2:\",r2_score(y_test4, predictions4))\n",
    "\n",
    "# 可视化\n",
    "print(\"---------------------------------预测效果---------------------------------\")\n",
    "plot(y_test4, predictions4)"
   ]
  },
  {
   "cell_type": "code",
   "execution_count": null,
   "metadata": {},
   "outputs": [],
   "source": [
    "import time\n",
    "while True:\n",
    "    time.sleep(200)\n",
    "    print(\"上面的代码跑完啦\")\n"
   ]
  },
  {
   "cell_type": "code",
   "execution_count": null,
   "metadata": {},
   "outputs": [],
   "source": []
  }
 ],
 "metadata": {
  "kernelspec": {
   "display_name": "pytorch",
   "language": "python",
   "name": "python3"
  },
  "language_info": {
   "codemirror_mode": {
    "name": "ipython",
    "version": 3
   },
   "file_extension": ".py",
   "mimetype": "text/x-python",
   "name": "python",
   "nbconvert_exporter": "python",
   "pygments_lexer": "ipython3",
   "version": "3.9.0"
  }
 },
 "nbformat": 4,
 "nbformat_minor": 2
}
